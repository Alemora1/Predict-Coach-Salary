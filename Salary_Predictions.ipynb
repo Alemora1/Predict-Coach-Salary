{
  "nbformat": 4,
  "nbformat_minor": 0,
  "metadata": {
    "colab": {
      "name": "Lab3IST718.ipynb",
      "provenance": []
    },
    "kernelspec": {
      "name": "python3",
      "display_name": "Python 3"
    }
  },
  "cells": [
    {
      "cell_type": "code",
      "metadata": {
        "id": "JOZeXo-Fp7Tv"
      },
      "source": [
        "##\r\n",
        "## Homework Lab 3 (Week3)\r\n",
        "##\r\n",
        "##Author: Alejandro Mora"
      ],
      "execution_count": null,
      "outputs": []
    },
    {
      "cell_type": "code",
      "metadata": {
        "id": "Jkhoq0hTqLHV",
        "colab": {
          "base_uri": "https://localhost:8080/"
        },
        "outputId": "a37ac9f1-bec6-443b-d603-8c72516a305d"
      },
      "source": [
        "##Packages\r\n",
        "%matplotlib inline\r\n",
        "# import packages for text processing and machine learning in case needed\r\n",
        "import pandas as pd  # DataFrame structure and operations\r\n",
        "from pandas import DataFrame\r\n",
        "import numpy as np  # arrays and numerical processing\r\n",
        "from sklearn.model_selection import train_test_split\r\n",
        "import matplotlib.pyplot as plt  # 2D plotting\r\n",
        "from scipy.stats import uniform\r\n",
        "import statsmodels.api as sm  # logistic regression\r\n",
        "import statsmodels.formula.api as smf  # R-like model specification\r\n",
        "import patsy  # translate model specification into design matrices\r\n",
        "import seaborn as sns  # PROVIDES TRELLIS AND SMALL MULTIPLE PLOTTING\r\n"
      ],
      "execution_count": 1,
      "outputs": [
        {
          "output_type": "stream",
          "text": [
            "/usr/local/lib/python3.6/dist-packages/statsmodels/tools/_testing.py:19: FutureWarning: pandas.util.testing is deprecated. Use the functions in the public API at pandas.testing instead.\n",
            "  import pandas.util.testing as tm\n"
          ],
          "name": "stderr"
        }
      ]
    },
    {
      "cell_type": "markdown",
      "metadata": {
        "id": "pNPyS1plMKvc"
      },
      "source": [
        "## Data Gathering and Munging"
      ]
    },
    {
      "cell_type": "code",
      "metadata": {
        "id": "N1GxoKY8qhxk"
      },
      "source": [
        "##Read in the coaches data set\r\n",
        "coaches = pd.read_html(\"Coaches9.html\")"
      ],
      "execution_count": 2,
      "outputs": []
    },
    {
      "cell_type": "code",
      "metadata": {
        "colab": {
          "base_uri": "https://localhost:8080/"
        },
        "id": "5whlCmpNsKAb",
        "outputId": "cec59865-f787-4a42-8370-390e1d1a6b6b"
      },
      "source": [
        "#Convert the list to a dataframe for analysis and find out structure of data\r\n",
        "type(coaches)\r\n",
        "#List to DataFrame, rename columns, and remove first uneccessary column\r\n",
        "coachesdf = pd.DataFrame(np.concatenate(coaches))\r\n",
        "coachesdf.columns = ['one','School', 'Conference', 'Coach',\t'SchoolPay','TotalPay','Bonus','BonusPaid','AssistantPay','Buyout']\r\n",
        "del coachesdf['one']\r\n",
        "print(coachesdf.head())\r\n"
      ],
      "execution_count": 3,
      "outputs": [
        {
          "output_type": "stream",
          "text": [
            "                  School Conference  ... AssistantPay       Buyout\n",
            "0              Air Force   Mt. West  ...           $0           --\n",
            "1                  Akron        MAC  ...           $0     $688,500\n",
            "2                Alabama        SEC  ...           $0  $33,600,000\n",
            "3  Alabama at Birmingham      C-USA  ...           $0   $3,847,500\n",
            "4      Appalachian State   Sun Belt  ...           $0   $2,160,417\n",
            "\n",
            "[5 rows x 9 columns]\n"
          ],
          "name": "stdout"
        }
      ]
    },
    {
      "cell_type": "code",
      "metadata": {
        "colab": {
          "base_uri": "https://localhost:8080/"
        },
        "id": "913y_30fyHLI",
        "outputId": "59465cfa-f136-4837-ee1c-dcc6cbdb90ab"
      },
      "source": [
        "#Check NA Values or null values\r\n",
        "print(coachesdf.isna().sum())\r\n",
        "print(coachesdf.isnull().sum())"
      ],
      "execution_count": 4,
      "outputs": [
        {
          "output_type": "stream",
          "text": [
            "School          0\n",
            "Conference      0\n",
            "Coach           0\n",
            "SchoolPay       0\n",
            "TotalPay        0\n",
            "Bonus           0\n",
            "BonusPaid       0\n",
            "AssistantPay    0\n",
            "Buyout          0\n",
            "dtype: int64\n",
            "School          0\n",
            "Conference      0\n",
            "Coach           0\n",
            "SchoolPay       0\n",
            "TotalPay        0\n",
            "Bonus           0\n",
            "BonusPaid       0\n",
            "AssistantPay    0\n",
            "Buyout          0\n",
            "dtype: int64\n"
          ],
          "name": "stdout"
        }
      ]
    },
    {
      "cell_type": "code",
      "metadata": {
        "id": "7Y8X8lP1ylpe"
      },
      "source": [
        "##Non-value items are labeled with \"--\", replace with \"Nan\" to view better\r\n",
        "coachesdf = coachesdf.replace(to_replace=\"--\", value= \"NaN\")"
      ],
      "execution_count": 5,
      "outputs": []
    },
    {
      "cell_type": "code",
      "metadata": {
        "id": "sM5aDWRrzOUH",
        "colab": {
          "base_uri": "https://localhost:8080/"
        },
        "outputId": "c98a4c04-fd61-4a37-98d0-c224b5100abe"
      },
      "source": [
        "#View AssistantPay to see if the zero value is consistant\r\n",
        "coachesdf[\"AssistantPay\"]\r\n",
        "#Assistant Pay seems to have no value to the data, Remove column\r\n",
        "del coachesdf[\"AssistantPay\"]\r\n",
        "print(coachesdf.head())\r\n",
        "\r\n",
        "##School Pay and Total Pay seem to be around the same value across the board.\r\n",
        "##School Pay will be taken out and TotalPay will only be used\r\n",
        "del coachesdf[\"SchoolPay\"]"
      ],
      "execution_count": 6,
      "outputs": [
        {
          "output_type": "stream",
          "text": [
            "                  School Conference  ... BonusPaid       Buyout\n",
            "0              Air Force   Mt. West  ...       NaN          NaN\n",
            "1                  Akron        MAC  ...   $50,000     $688,500\n",
            "2                Alabama        SEC  ...  $500,000  $33,600,000\n",
            "3  Alabama at Birmingham      C-USA  ...  $165,471   $3,847,500\n",
            "4      Appalachian State   Sun Belt  ...  $145,000   $2,160,417\n",
            "\n",
            "[5 rows x 8 columns]\n"
          ],
          "name": "stdout"
        }
      ]
    },
    {
      "cell_type": "code",
      "metadata": {
        "colab": {
          "base_uri": "https://localhost:8080/"
        },
        "id": "FxUnRV1EAeQC",
        "outputId": "40b8bf12-347f-44de-d398-5ea427d5eb5f"
      },
      "source": [
        "#View data types within columns\r\n",
        "coachesdf.dtypes"
      ],
      "execution_count": 7,
      "outputs": [
        {
          "output_type": "execute_result",
          "data": {
            "text/plain": [
              "School        object\n",
              "Conference    object\n",
              "Coach         object\n",
              "TotalPay      object\n",
              "Bonus         object\n",
              "BonusPaid     object\n",
              "Buyout        object\n",
              "dtype: object"
            ]
          },
          "metadata": {
            "tags": []
          },
          "execution_count": 7
        }
      ]
    },
    {
      "cell_type": "code",
      "metadata": {
        "colab": {
          "base_uri": "https://localhost:8080/"
        },
        "id": "nZjNfLfXB7Og",
        "outputId": "d4e9efc7-ad4d-4c80-f350-5351919a37a8"
      },
      "source": [
        "##Pay Values cannot be analyzed as strings so they must be converted to float values for evaluation\r\n",
        "coachesdf['TotalPay'] = coachesdf['TotalPay'].replace({'\\$':'',',': ''}, regex=True).astype(float)\r\n",
        "coachesdf['Bonus'] = coachesdf['Bonus'].replace({'\\$':'',',': ''}, regex=True).astype(float)\r\n",
        "coachesdf['BonusPaid'] = coachesdf['BonusPaid'].replace({'\\$':'',',': ''}, regex=True).astype(float)\r\n",
        "coachesdf['Buyout'] = coachesdf['Buyout'].replace({'\\$':'',',': ''}, regex=True).astype(float)\r\n",
        "print(coachesdf['TotalPay'])"
      ],
      "execution_count": 8,
      "outputs": [
        {
          "output_type": "stream",
          "text": [
            "0       885000.0\n",
            "1       412500.0\n",
            "2      8307000.0\n",
            "3       900000.0\n",
            "4       712500.0\n",
            "         ...    \n",
            "124    3617500.0\n",
            "125     805850.0\n",
            "126     800000.0\n",
            "127    3750000.0\n",
            "128    1412000.0\n",
            "Name: TotalPay, Length: 129, dtype: float64\n"
          ],
          "name": "stdout"
        }
      ]
    },
    {
      "cell_type": "code",
      "metadata": {
        "colab": {
          "base_uri": "https://localhost:8080/"
        },
        "id": "MXfDlQ9h5wtx",
        "outputId": "f859abb4-607c-4da1-9e8e-f8e1965256d5"
      },
      "source": [
        "#View rows that have the \"NaN\" value to determine if needed\r\n",
        "sum(np.isin(coachesdf, ['NaN']))\r\n",
        "print(coachesdf[coachesdf['TotalPay']=='NaN'].index.values)"
      ],
      "execution_count": 9,
      "outputs": [
        {
          "output_type": "stream",
          "text": [
            "[]\n"
          ],
          "name": "stdout"
        }
      ]
    },
    {
      "cell_type": "code",
      "metadata": {
        "id": "8KmSd5cmy7pM",
        "colab": {
          "base_uri": "https://localhost:8080/"
        },
        "outputId": "b15208d0-9a9e-43d2-95dd-37cb0badc48a"
      },
      "source": [
        "#Many schools in \"bigger\" conferences have a very large TotalPay for coaches or have no TotalPay recorded\r\n",
        "#The schools reporting no pay can be taken out to help with data being skewed\r\n",
        "print(coachesdf['TotalPay'])\r\n",
        "coachesdf = coachesdf.drop(coachesdf.index[[12,16,91,99]])"
      ],
      "execution_count": 10,
      "outputs": [
        {
          "output_type": "stream",
          "text": [
            "0       885000.0\n",
            "1       412500.0\n",
            "2      8307000.0\n",
            "3       900000.0\n",
            "4       712500.0\n",
            "         ...    \n",
            "124    3617500.0\n",
            "125     805850.0\n",
            "126     800000.0\n",
            "127    3750000.0\n",
            "128    1412000.0\n",
            "Name: TotalPay, Length: 129, dtype: float64\n"
          ],
          "name": "stdout"
        }
      ]
    },
    {
      "cell_type": "code",
      "metadata": {
        "id": "kMEsFGJfTS_m",
        "colab": {
          "base_uri": "https://localhost:8080/"
        },
        "outputId": "16304316-d87c-46aa-a9e7-ed020c3935ce"
      },
      "source": [
        "#Data needs more categorical variables to help with Pay determination\r\n",
        "##Graduation Rates\r\n",
        "##Source: https://www.ncaa.org/about/resources/research/shared-ncaa-research-data\r\n",
        "\r\n",
        "GsrFsr = pd.read_csv(\"2018RES_File5-DISquadAggregationSA.csv\")\r\n",
        "print(GsrFsr)\r\n",
        "#Check Variable names to only get Football stats\r\n",
        "GsrFsr.columns"
      ],
      "execution_count": 11,
      "outputs": [
        {
          "output_type": "stream",
          "text": [
            "      SCL_UNITID                   SCL_NAME  ...  FED_RATE    GSR\n",
            "0         100654     Alabama A&M University  ...      57.0   61.0\n",
            "1         100654     Alabama A&M University  ...      47.0   62.0\n",
            "2         100654     Alabama A&M University  ...      50.0   67.0\n",
            "3         100654     Alabama A&M University  ...      29.0    NaN\n",
            "4         100654     Alabama A&M University  ...      86.0   86.0\n",
            "...          ...                        ...  ...       ...    ...\n",
            "5398      486840  Kennesaw State University  ...      30.0   50.0\n",
            "5399      486840  Kennesaw State University  ...      68.0   86.0\n",
            "5400      486840  Kennesaw State University  ...       NaN  100.0\n",
            "5401      486840  Kennesaw State University  ...      33.0   59.0\n",
            "5402      486840  Kennesaw State University  ...      63.0   91.0\n",
            "\n",
            "[5403 rows x 12 columns]\n"
          ],
          "name": "stdout"
        },
        {
          "output_type": "execute_result",
          "data": {
            "text/plain": [
              "Index(['SCL_UNITID', 'SCL_NAME', 'SCL_DIVISION', 'SCL_SUBDIVISION',\n",
              "       'SCL_CONFERENCE', 'DIV1_FB_CONFERENCE', 'SCL_HBCU', 'SCL_PRIVATE',\n",
              "       'SPORT', 'SPONSORED', 'FED_RATE', 'GSR'],\n",
              "      dtype='object')"
            ]
          },
          "metadata": {
            "tags": []
          },
          "execution_count": 11
        }
      ]
    },
    {
      "cell_type": "code",
      "metadata": {
        "id": "ZSY3dQ9jOog0"
      },
      "source": [
        "#Delete uneccesary columns\r\n",
        "del GsrFsr[\"SCL_UNITID\"]\r\n",
        "del GsrFsr[\"SCL_HBCU\"]\r\n",
        "del GsrFsr[\"SPONSORED\"]\r\n",
        "del GsrFsr[\"SCL_PRIVATE\"]\r\n",
        "del GsrFsr[\"SCL_CONFERENCE\"]\r\n",
        "del GsrFsr['SCL_SUBDIVISION']"
      ],
      "execution_count": 12,
      "outputs": []
    },
    {
      "cell_type": "code",
      "metadata": {
        "colab": {
          "base_uri": "https://localhost:8080/"
        },
        "id": "uQ_CvcaBQsbU",
        "outputId": "e2395726-61ae-4e0b-d5f2-a6762eaa122f"
      },
      "source": [
        "#View Column Names remaining\r\n",
        "GsrFsr.columns"
      ],
      "execution_count": 13,
      "outputs": [
        {
          "output_type": "execute_result",
          "data": {
            "text/plain": [
              "Index(['SCL_NAME', 'SCL_DIVISION', 'DIV1_FB_CONFERENCE', 'SPORT', 'FED_RATE',\n",
              "       'GSR'],\n",
              "      dtype='object')"
            ]
          },
          "metadata": {
            "tags": []
          },
          "execution_count": 13
        }
      ]
    },
    {
      "cell_type": "code",
      "metadata": {
        "colab": {
          "base_uri": "https://localhost:8080/"
        },
        "id": "xxc9DVRDQwfj",
        "outputId": "d032659e-6ea2-4c95-b956-1b9fd0ce0665"
      },
      "source": [
        "##Change column names for merging\r\n",
        "GsrFsr.columns = ['School', 'Division', 'Conference', 'Sport', 'FGR', 'GSR']\r\n",
        "print(GsrFsr.columns)"
      ],
      "execution_count": 14,
      "outputs": [
        {
          "output_type": "stream",
          "text": [
            "Index(['School', 'Division', 'Conference', 'Sport', 'FGR', 'GSR'], dtype='object')\n"
          ],
          "name": "stdout"
        }
      ]
    },
    {
      "cell_type": "code",
      "metadata": {
        "id": "hKwM5mTKR3wC",
        "colab": {
          "base_uri": "https://localhost:8080/"
        },
        "outputId": "a21931c4-eb42-4771-ea97-b6031721bdab"
      },
      "source": [
        "#View data types of column variables\r\n",
        "GsrFsr.dtypes"
      ],
      "execution_count": 15,
      "outputs": [
        {
          "output_type": "execute_result",
          "data": {
            "text/plain": [
              "School         object\n",
              "Division        int64\n",
              "Conference     object\n",
              "Sport          object\n",
              "FGR           float64\n",
              "GSR           float64\n",
              "dtype: object"
            ]
          },
          "metadata": {
            "tags": []
          },
          "execution_count": 15
        }
      ]
    },
    {
      "cell_type": "code",
      "metadata": {
        "id": "chDJwKLFSI3u"
      },
      "source": [
        "#Keep only columns containing Division 1 Schools and Football Program Rates\r\n",
        "GsrFsr = GsrFsr.loc[GsrFsr['Division'] == 1]\r\n",
        "GsrFsr = GsrFsr.loc[GsrFsr['Sport'] == 'MFB']"
      ],
      "execution_count": 16,
      "outputs": []
    },
    {
      "cell_type": "code",
      "metadata": {
        "id": "9FqPIOSTX1a8"
      },
      "source": [
        "#Convert object School to strng and remove \"University\" and \"University of\" for data merging using regex\r\n",
        "GsrFsr['School'] = GsrFsr['School'].replace({'University\\sof\\s':'','\\sUniversity': ''}, regex=True).astype(str)\r\n",
        "#Convert other schools like \"Air Force\", \"UCLA\", etc.\r\n",
        "GsrFsr['School'] = GsrFsr['School'].replace({'California,\\sLos\\sAngeles':'UCLA'}, regex=True).astype(str)\r\n",
        "GsrFsr['School'] = GsrFsr['School'].replace({'U.S.\\sNaval\\sAcademy':'Navy'}, regex=True).astype(str)\r\n",
        "GsrFsr['School'] = GsrFsr['School'].replace({'U.S.\\sAir\\sForce\\sAcademy':'Air Force'}, regex=True).astype(str)\r\n",
        "GsrFsr['School'] = GsrFsr['School'].replace({',\\sThe\\sState\\sNew\\sJersey,\\sNew Brunswick':''}, regex=True).astype(str)\r\n",
        "GsrFsr['School'] = GsrFsr['School'].replace({'Bowling\\sGreen\\sState':'Bowling Green'}, regex=True).astype(str)\r\n",
        "GsrFsr['School'] = GsrFsr['School'].replace({',\\sFayetteville':''}, regex=True).astype(str)\r\n",
        "GsrFsr['School'] = GsrFsr['School'].replace({',\\sBerkeley':''}, regex=True).astype(str)\r\n",
        "GsrFsr['School'] = GsrFsr['School'].replace({'University\\sat\\s':'',',\\sthe\\sState\\sNew\\sYork':''}, regex=True).astype(str)\r\n",
        "GsrFsr['School'] = GsrFsr['School'].replace({'Louisiana\\sat\\sMonroe':'Louisiana-Monroe', 'Louisiana\\sat\\sLafayette':'Louisiana-Lafayette'}, regex=True).astype(str)\r\n",
        "GsrFsr['School'] = GsrFsr['School'].replace({'\\sat\\sSan\\sAntonio':'-San Antonio', '\\sat\\sEl\\sPaso':'-El Paso'}, regex=True).astype(str)\r\n",
        "GsrFsr['School'] = GsrFsr['School'].replace({',\\sCollege\\sStation':''}, regex=True).astype(str)\r\n",
        "GsrFsr['School'] = GsrFsr['School'].replace({',\\sBoulder':''}, regex=True).astype(str)\r\n",
        "GsrFsr['School'] = GsrFsr['School'].replace({'California\\sState,\\sFresno':'Fresno State'}, regex=True).astype(str)\r\n",
        "GsrFsr['School'] = GsrFsr['School'].replace({'Georgia\\sInstitute\\sof\\sTechnology':'Georgia Tech'}, regex=True).astype(str)\r\n",
        "GsrFsr['School'] = GsrFsr['School'].replace({',\\sManoa':''}, regex=True).astype(str)\r\n",
        "GsrFsr['School'] = GsrFsr['School'].replace({',\\sBloomington':''}, regex=True).astype(str)\r\n",
        "GsrFsr['School'] = GsrFsr['School'].replace({'\\sUrbana-Champaign':''}, regex=True).astype(str)\r\n",
        "GsrFsr['School'] = GsrFsr['School'].replace({'Louisiana\\sState':'LSU'}, regex=True).astype(str)\r\n",
        "GsrFsr['School'] = GsrFsr['School'].replace({',\\sCollege\\sPark':''}, regex=True).astype(str)\r\n",
        "GsrFsr['School'] = GsrFsr['School'].replace({',\\sAmherst':''}, regex=True).astype(str)\r\n",
        "GsrFsr['School'] = GsrFsr['School'].replace({'Miami\\s(Florida)':'Miami (Fla.)'}, regex=True).astype(str)\r\n",
        "GsrFsr['School'] = GsrFsr['School'].replace({'Miami\\s(Ohio)':'Miami (Ohio)'}, regex=True).astype(str)\r\n",
        "GsrFsr['School'] = GsrFsr['School'].replace({'Middle\\sTennessee\\sState':'Middle Tennessee'}, regex=True).astype(str)\r\n",
        "GsrFsr['School'] = GsrFsr['School'].replace({',\\sTwin Cities':''}, regex=True).astype(str)\r\n",
        "GsrFsr['School'] = GsrFsr['School'].replace({',\\sColumbia':''}, regex=True).astype(str)\r\n",
        "GsrFsr['School'] = GsrFsr['School'].replace({',\\sLincoln':''}, regex=True).astype(str)\r\n",
        "GsrFsr['School'] = GsrFsr['School'].replace({',\\sReno':''}, regex=True).astype(str)\r\n",
        "GsrFsr['School'] = GsrFsr['School'].replace({'The\\sTulsa':'Tulsa'}, regex=True).astype(str)\r\n",
        "GsrFsr['School'] = GsrFsr['School'].replace({'at\\sAustin':''}, regex=True).astype(str)\r\n",
        "GsrFsr['School'] = GsrFsr['School'].replace({', Knoxville':''}, regex=True).astype(str)\r\n",
        "GsrFsr['School'] = GsrFsr['School'].replace({'-Madison':''}, regex=True).astype(str)\r\n",
        "GsrFsr['School'] = GsrFsr['School'].replace({',\\sLas Vegas':'-Las Vegas'}, regex=True).astype(str)\r\n",
        "GsrFsr['School'] = GsrFsr['School'].replace({',\\sChapel\\sHill':''}, regex=True).astype(str)\r\n",
        "GsrFsr['School'] = GsrFsr['School'].replace({'The\\sOhio\\sState':'Ohio State'}, regex=True).astype(str)\r\n",
        "GsrFsr['School'] = GsrFsr['School'].replace({'South(Fla.)':'South Florida'}, regex=True).astype(str)\r\n",
        "GsrFsr['School'] = GsrFsr['School'].replace({'Pennsylvania\\sState':'Penn State'}, regex=True).astype(str)\r\n",
        "GsrFsr['School'] = GsrFsr['School'].replace({'The\\sNorth\\sCarolina\\sat\\sCharlotte ':'Charlotte'}, regex=True).astype(str)\r\n",
        "GsrFsr['School'] = GsrFsr['School'].replace({'The\\sSouthern\\sMississippi':'Southern Mississippi'}, regex=True).astype(str)\r\n",
        "GsrFsr['School'] = GsrFsr['School'].replace({'Virginia\\sPolytechnic\\sInstitute\\sand\\sState':'Virginia Tech'}, regex=True).astype(str)\r\n"
      ],
      "execution_count": 17,
      "outputs": []
    },
    {
      "cell_type": "code",
      "metadata": {
        "id": "w1fy26_nX7Cn",
        "colab": {
          "base_uri": "https://localhost:8080/"
        },
        "outputId": "e982e467-8bac-45d1-ab8f-93ba02e85df3"
      },
      "source": [
        "#View data to see if school names are changed correctly\r\n",
        "print(GsrFsr['School'])"
      ],
      "execution_count": 18,
      "outputs": [
        {
          "output_type": "stream",
          "text": [
            "1                 Alabama A&M\n",
            "18      Alabama at Birmingham\n",
            "29              Alabama State\n",
            "51                    Alabama\n",
            "71                     Auburn\n",
            "                ...          \n",
            "5255            West Virginia\n",
            "5301                Wisconsin\n",
            "5325                  Wyoming\n",
            "5358                 Stanford\n",
            "5370                   Purdue\n",
            "Name: School, Length: 252, dtype: object\n"
          ],
          "name": "stdout"
        }
      ]
    },
    {
      "cell_type": "code",
      "metadata": {
        "id": "0t9EZdy7TsFT",
        "colab": {
          "base_uri": "https://localhost:8080/"
        },
        "outputId": "a6acce3b-36d4-48e2-9933-ccf7f77fe6a9"
      },
      "source": [
        "##Merge Coaches Pay dataframe and GSR together\r\n",
        "newcoaches = pd.merge(coachesdf, GsrFsr, on=\"School\")\r\n",
        "print(newcoaches.head())\r\n",
        "newcoaches.columns"
      ],
      "execution_count": 19,
      "outputs": [
        {
          "output_type": "stream",
          "text": [
            "                  School Conference_x              Coach  ...  Sport   FGR   GSR\n",
            "0              Air Force     Mt. West       Troy Calhoun  ...    MFB   NaN  77.0\n",
            "1                  Akron          MAC       Terry Bowden  ...    MFB  61.0  72.0\n",
            "2                Alabama          SEC         Nick Saban  ...    MFB  63.0  84.0\n",
            "3  Alabama at Birmingham        C-USA         Bill Clark  ...    MFB  58.0  71.0\n",
            "4      Appalachian State     Sun Belt  Scott Satterfield  ...    MFB  67.0  71.0\n",
            "\n",
            "[5 rows x 12 columns]\n"
          ],
          "name": "stdout"
        },
        {
          "output_type": "execute_result",
          "data": {
            "text/plain": [
              "Index(['School', 'Conference_x', 'Coach', 'TotalPay', 'Bonus', 'BonusPaid',\n",
              "       'Buyout', 'Division', 'Conference_y', 'Sport', 'FGR', 'GSR'],\n",
              "      dtype='object')"
            ]
          },
          "metadata": {
            "tags": []
          },
          "execution_count": 19
        }
      ]
    },
    {
      "cell_type": "code",
      "metadata": {
        "id": "0UXDdVKmTLPr"
      },
      "source": [
        "#Delete uneccessary columns from newcoaches\r\n",
        "del newcoaches[\"Conference_y\"]\r\n",
        "del newcoaches[\"Sport\"]"
      ],
      "execution_count": 20,
      "outputs": []
    },
    {
      "cell_type": "code",
      "metadata": {
        "id": "_K_Ub6zqUHzd"
      },
      "source": [
        "###Stadium Size Data\r\n",
        "##More Data to help with coach pay predictions\r\n",
        "##source: https://github.com/gboeing/data-visualization/blob/master/ncaa-football-stadiums/data/stadiums-geocoded.csv"
      ],
      "execution_count": null,
      "outputs": []
    },
    {
      "cell_type": "code",
      "metadata": {
        "id": "HYJATCPrUgnW",
        "colab": {
          "base_uri": "https://localhost:8080/"
        },
        "outputId": "dc32c166-d353-469f-9d6b-c8e47cc39f6c"
      },
      "source": [
        "#Import Stadium Data\r\n",
        "stadium = pd.read_csv(\"stadiums-geocoded.csv\")\r\n",
        "print(stadium.head())"
      ],
      "execution_count": 21,
      "outputs": [
        {
          "output_type": "stream",
          "text": [
            "            stadium             city state  ...  div   latitude  longitude\n",
            "0  Michigan Stadium        Ann Arbor    MI  ...  fbs  42.265869 -83.748726\n",
            "1    Beaver Stadium  University Park    PA  ...  fbs  40.812153 -77.856202\n",
            "2      Ohio Stadium         Columbus    OH  ...  fbs  40.001686 -83.019728\n",
            "3        Kyle Field  College Station    TX  ...  fbs  30.610098 -96.340729\n",
            "4   Neyland Stadium        Knoxville    TN  ...  fbs  35.954734 -83.925333\n",
            "\n",
            "[5 rows x 11 columns]\n"
          ],
          "name": "stdout"
        }
      ]
    },
    {
      "cell_type": "code",
      "metadata": {
        "colab": {
          "base_uri": "https://localhost:8080/"
        },
        "id": "Uqanac09Vejs",
        "outputId": "67314d18-0ac4-44f9-d4a8-92dd691530cb"
      },
      "source": [
        "#View data types and columns\r\n",
        "stadium.columns\r\n",
        "stadium.dtypes"
      ],
      "execution_count": 22,
      "outputs": [
        {
          "output_type": "execute_result",
          "data": {
            "text/plain": [
              "stadium        object\n",
              "city           object\n",
              "state          object\n",
              "team           object\n",
              "conference     object\n",
              "capacity        int64\n",
              "built           int64\n",
              "expanded       object\n",
              "div            object\n",
              "latitude      float64\n",
              "longitude     float64\n",
              "dtype: object"
            ]
          },
          "metadata": {
            "tags": []
          },
          "execution_count": 22
        }
      ]
    },
    {
      "cell_type": "code",
      "metadata": {
        "id": "ckqwv4_6YCPw"
      },
      "source": [
        "#Since it didn't take some schools, more name changing will have to be done to the stadium data set\r\n",
        "stadium['team'] = stadium['team'].replace({'FIU':'Florida International'}, regex=True).astype(str)\r\n",
        "stadium['team'] = stadium['team'].replace({'UTEP':'Texas-El Paso'}, regex=True).astype(str)\r\n",
        "stadium['team'] = stadium['team'].replace({'UTSA':'Texas-San Antonio'}, regex=True).astype(str)"
      ],
      "execution_count": 23,
      "outputs": []
    },
    {
      "cell_type": "code",
      "metadata": {
        "id": "B2GG8YjmVPyI",
        "colab": {
          "base_uri": "https://localhost:8080/"
        },
        "outputId": "6b851eff-cffe-40b5-dbd4-01782c787d80"
      },
      "source": [
        "#Delete uneccessary columns(capacity is only needed with school)\r\n",
        "stadium2 = DataFrame(data = stadium, columns=[\"team\",\"capacity\"])\r\n",
        "stadium2.dtypes\r\n",
        "\r\n",
        "#Change \"team\" to \"School\"\r\n",
        "stadium2 = stadium2.rename(columns = {\"team\":\"School\"})\r\n",
        "print(stadium2)\r\n",
        "print(stadium2[\"School\"])"
      ],
      "execution_count": 24,
      "outputs": [
        {
          "output_type": "stream",
          "text": [
            "                      School  capacity\n",
            "0                   Michigan    107601\n",
            "1                 Penn State    106572\n",
            "2                 Ohio State    104944\n",
            "3                  Texas A&M    102733\n",
            "4                  Tennessee    102455\n",
            "..                       ...       ...\n",
            "248  Saint Francis Red Flash      3500\n",
            "249          Wagner Seahawks      3300\n",
            "250  Robert Morris Colonials      3000\n",
            "251         Georgetown Hoyas      2500\n",
            "252           Duquesne Dukes      2200\n",
            "\n",
            "[253 rows x 2 columns]\n",
            "0                     Michigan\n",
            "1                   Penn State\n",
            "2                   Ohio State\n",
            "3                    Texas A&M\n",
            "4                    Tennessee\n",
            "                ...           \n",
            "248    Saint Francis Red Flash\n",
            "249            Wagner Seahawks\n",
            "250    Robert Morris Colonials\n",
            "251           Georgetown Hoyas\n",
            "252             Duquesne Dukes\n",
            "Name: School, Length: 253, dtype: object\n"
          ],
          "name": "stdout"
        }
      ]
    },
    {
      "cell_type": "code",
      "metadata": {
        "id": "y9Ie3csEWgic",
        "colab": {
          "base_uri": "https://localhost:8080/"
        },
        "outputId": "266fd00a-8c60-49ac-924b-23ef5b8a683c"
      },
      "source": [
        "#Merge newcoaches Data Frame and stadium\r\n",
        "newcoaches = pd.merge(newcoaches, stadium2, on=\"School\")\r\n",
        "print(newcoaches.head())\r\n",
        "newcoaches.columns"
      ],
      "execution_count": 25,
      "outputs": [
        {
          "output_type": "stream",
          "text": [
            "              School Conference_x              Coach  ...   FGR   GSR  capacity\n",
            "0          Air Force     Mt. West       Troy Calhoun  ...   NaN  77.0     46692\n",
            "1              Akron          MAC       Terry Bowden  ...  61.0  72.0     30000\n",
            "2            Alabama          SEC         Nick Saban  ...  63.0  84.0    101821\n",
            "3  Appalachian State     Sun Belt  Scott Satterfield  ...  67.0  71.0     24050\n",
            "4            Arizona       Pac-12       Kevin Sumlin  ...  63.0  76.0     51811\n",
            "\n",
            "[5 rows x 11 columns]\n"
          ],
          "name": "stdout"
        },
        {
          "output_type": "execute_result",
          "data": {
            "text/plain": [
              "Index(['School', 'Conference_x', 'Coach', 'TotalPay', 'Bonus', 'BonusPaid',\n",
              "       'Buyout', 'Division', 'FGR', 'GSR', 'capacity'],\n",
              "      dtype='object')"
            ]
          },
          "metadata": {
            "tags": []
          },
          "execution_count": 25
        }
      ]
    },
    {
      "cell_type": "code",
      "metadata": {
        "id": "W_OTiR_N2ugd",
        "colab": {
          "base_uri": "https://localhost:8080/"
        },
        "outputId": "eed44e58-f619-48db-d5f2-b930cfaf7e27"
      },
      "source": [
        "#Remove another column and rename some columns\r\n",
        "del newcoaches[\"Division\"]\r\n",
        "newcoaches = newcoaches.rename(columns= {\"capacity\":\"Stadium_Capacity\"})\r\n",
        "newcoaches = newcoaches.rename(columns= {\"Conference_x\":\"Conference\"})\r\n",
        "print(newcoaches.head())\r\n",
        "newcoaches.dtypes"
      ],
      "execution_count": 26,
      "outputs": [
        {
          "output_type": "stream",
          "text": [
            "              School Conference  ...   GSR  Stadium_Capacity\n",
            "0          Air Force   Mt. West  ...  77.0             46692\n",
            "1              Akron        MAC  ...  72.0             30000\n",
            "2            Alabama        SEC  ...  84.0            101821\n",
            "3  Appalachian State   Sun Belt  ...  71.0             24050\n",
            "4            Arizona     Pac-12  ...  76.0             51811\n",
            "\n",
            "[5 rows x 10 columns]\n"
          ],
          "name": "stdout"
        },
        {
          "output_type": "execute_result",
          "data": {
            "text/plain": [
              "School               object\n",
              "Conference           object\n",
              "Coach                object\n",
              "TotalPay            float64\n",
              "Bonus               float64\n",
              "BonusPaid           float64\n",
              "Buyout              float64\n",
              "FGR                 float64\n",
              "GSR                 float64\n",
              "Stadium_Capacity      int64\n",
              "dtype: object"
            ]
          },
          "metadata": {
            "tags": []
          },
          "execution_count": 26
        }
      ]
    },
    {
      "cell_type": "code",
      "metadata": {
        "id": "FjowjZ0jCnM1"
      },
      "source": [
        "###Another data frame consisting variables for analysis\r\n",
        "##Record Data\r\n",
        "###Source: https://www.sports-reference.com/cfb/years/2018-ratings.html"
      ],
      "execution_count": null,
      "outputs": []
    },
    {
      "cell_type": "code",
      "metadata": {
        "colab": {
          "base_uri": "https://localhost:8080/",
          "height": 204
        },
        "id": "qypEWlFICrvE",
        "outputId": "de3af0cc-f992-47d3-da5a-1b5611232b13"
      },
      "source": [
        "#Import record data\r\n",
        "records = pd.read_html(\"sportsref_download (2).xls\")\r\n",
        "recordsdf = pd.DataFrame(np.concatenate(records))\r\n",
        "recordsdf.head()"
      ],
      "execution_count": 27,
      "outputs": [
        {
          "output_type": "execute_result",
          "data": {
            "text/html": [
              "<div>\n",
              "<style scoped>\n",
              "    .dataframe tbody tr th:only-of-type {\n",
              "        vertical-align: middle;\n",
              "    }\n",
              "\n",
              "    .dataframe tbody tr th {\n",
              "        vertical-align: top;\n",
              "    }\n",
              "\n",
              "    .dataframe thead th {\n",
              "        text-align: right;\n",
              "    }\n",
              "</style>\n",
              "<table border=\"1\" class=\"dataframe\">\n",
              "  <thead>\n",
              "    <tr style=\"text-align: right;\">\n",
              "      <th></th>\n",
              "      <th>0</th>\n",
              "      <th>1</th>\n",
              "      <th>2</th>\n",
              "      <th>3</th>\n",
              "      <th>4</th>\n",
              "      <th>5</th>\n",
              "      <th>6</th>\n",
              "      <th>7</th>\n",
              "      <th>8</th>\n",
              "      <th>9</th>\n",
              "      <th>10</th>\n",
              "      <th>11</th>\n",
              "      <th>12</th>\n",
              "      <th>13</th>\n",
              "      <th>14</th>\n",
              "      <th>15</th>\n",
              "      <th>16</th>\n",
              "    </tr>\n",
              "  </thead>\n",
              "  <tbody>\n",
              "    <tr>\n",
              "      <th>0</th>\n",
              "      <td>1</td>\n",
              "      <td>Clemson</td>\n",
              "      <td>ACC (Atlantic)</td>\n",
              "      <td>1</td>\n",
              "      <td>15</td>\n",
              "      <td>0</td>\n",
              "      <td>9.41</td>\n",
              "      <td>17.04</td>\n",
              "      <td>26.45</td>\n",
              "      <td>NaN</td>\n",
              "      <td>NaN</td>\n",
              "      <td>NaN</td>\n",
              "      <td>NaN</td>\n",
              "      <td>NaN</td>\n",
              "      <td>NaN</td>\n",
              "      <td>NaN</td>\n",
              "      <td>NaN</td>\n",
              "    </tr>\n",
              "    <tr>\n",
              "      <th>1</th>\n",
              "      <td>2</td>\n",
              "      <td>Alabama</td>\n",
              "      <td>SEC (West)</td>\n",
              "      <td>2</td>\n",
              "      <td>14</td>\n",
              "      <td>1</td>\n",
              "      <td>12.19</td>\n",
              "      <td>13.1</td>\n",
              "      <td>25.29</td>\n",
              "      <td>NaN</td>\n",
              "      <td>NaN</td>\n",
              "      <td>NaN</td>\n",
              "      <td>NaN</td>\n",
              "      <td>NaN</td>\n",
              "      <td>NaN</td>\n",
              "      <td>NaN</td>\n",
              "      <td>NaN</td>\n",
              "    </tr>\n",
              "    <tr>\n",
              "      <th>2</th>\n",
              "      <td>3</td>\n",
              "      <td>Georgia</td>\n",
              "      <td>SEC (East)</td>\n",
              "      <td>7</td>\n",
              "      <td>11</td>\n",
              "      <td>3</td>\n",
              "      <td>9.53</td>\n",
              "      <td>11.17</td>\n",
              "      <td>20.69</td>\n",
              "      <td>NaN</td>\n",
              "      <td>NaN</td>\n",
              "      <td>NaN</td>\n",
              "      <td>NaN</td>\n",
              "      <td>NaN</td>\n",
              "      <td>NaN</td>\n",
              "      <td>NaN</td>\n",
              "      <td>NaN</td>\n",
              "    </tr>\n",
              "    <tr>\n",
              "      <th>3</th>\n",
              "      <td>4</td>\n",
              "      <td>Oklahoma</td>\n",
              "      <td>Big 12</td>\n",
              "      <td>4</td>\n",
              "      <td>12</td>\n",
              "      <td>2</td>\n",
              "      <td>21.41</td>\n",
              "      <td>-3.35</td>\n",
              "      <td>18.06</td>\n",
              "      <td>NaN</td>\n",
              "      <td>NaN</td>\n",
              "      <td>NaN</td>\n",
              "      <td>NaN</td>\n",
              "      <td>NaN</td>\n",
              "      <td>NaN</td>\n",
              "      <td>NaN</td>\n",
              "      <td>NaN</td>\n",
              "    </tr>\n",
              "    <tr>\n",
              "      <th>4</th>\n",
              "      <td>5</td>\n",
              "      <td>Ohio State</td>\n",
              "      <td>Big Ten (East)</td>\n",
              "      <td>3</td>\n",
              "      <td>13</td>\n",
              "      <td>1</td>\n",
              "      <td>15.24</td>\n",
              "      <td>2.5</td>\n",
              "      <td>17.74</td>\n",
              "      <td>NaN</td>\n",
              "      <td>NaN</td>\n",
              "      <td>NaN</td>\n",
              "      <td>NaN</td>\n",
              "      <td>NaN</td>\n",
              "      <td>NaN</td>\n",
              "      <td>NaN</td>\n",
              "      <td>NaN</td>\n",
              "    </tr>\n",
              "  </tbody>\n",
              "</table>\n",
              "</div>"
            ],
            "text/plain": [
              "  0           1               2  3   4  5   ...   11   12   13   14   15   16\n",
              "0  1     Clemson  ACC (Atlantic)  1  15  0  ...  NaN  NaN  NaN  NaN  NaN  NaN\n",
              "1  2     Alabama      SEC (West)  2  14  1  ...  NaN  NaN  NaN  NaN  NaN  NaN\n",
              "2  3     Georgia      SEC (East)  7  11  3  ...  NaN  NaN  NaN  NaN  NaN  NaN\n",
              "3  4    Oklahoma          Big 12  4  12  2  ...  NaN  NaN  NaN  NaN  NaN  NaN\n",
              "4  5  Ohio State  Big Ten (East)  3  13  1  ...  NaN  NaN  NaN  NaN  NaN  NaN\n",
              "\n",
              "[5 rows x 17 columns]"
            ]
          },
          "metadata": {
            "tags": []
          },
          "execution_count": 27
        }
      ]
    },
    {
      "cell_type": "code",
      "metadata": {
        "id": "tC1SdrozG7Vv"
      },
      "source": [
        "#Delete uneccessary columns and rename variables\r\n",
        "#Columns have to be renamed before removal, number columns will be deleted\r\n",
        "recordsdf.columns = ['Rank', 'School', 'Conference', 'APRank', 'Wins', 'Loses', 'OSRS', 'DSRS', 'SRS', '1','2','3','4','5','6','7','8']\r\n",
        "recordsdf = recordsdf.drop(columns=['1','2','3','4','5','6','7','8'])"
      ],
      "execution_count": 28,
      "outputs": []
    },
    {
      "cell_type": "code",
      "metadata": {
        "colab": {
          "base_uri": "https://localhost:8080/"
        },
        "id": "JPi0o9Wb5s-c",
        "outputId": "6ee8e92e-0e84-4218-efcb-cecbe958acbc"
      },
      "source": [
        "#Convert records school names to match with other DFs\r\n",
        "pd.set_option('display.max_columns', None)\r\n",
        "pd.set_option(\"max_rows\", None)\r\n",
        "print(recordsdf)"
      ],
      "execution_count": 29,
      "outputs": [
        {
          "output_type": "stream",
          "text": [
            "    Rank                  School       Conference APRank Wins Loses   OSRS  \\\n",
            "0      1                 Clemson   ACC (Atlantic)      1   15     0   9.41   \n",
            "1      2                 Alabama       SEC (West)      2   14     1  12.19   \n",
            "2      3                 Georgia       SEC (East)      7   11     3   9.53   \n",
            "3      4                Oklahoma           Big 12      4   12     2  21.41   \n",
            "4      5              Ohio State   Big Ten (East)      3   13     1  15.24   \n",
            "5      6              Notre Dame              Ind      5   12     1   5.57   \n",
            "6      7                Michigan   Big Ten (East)     14   10     3   5.92   \n",
            "7      8                     LSU       SEC (West)      6   10     3    8.4   \n",
            "8      9                     UCF  American (East)     11   12     1  10.24   \n",
            "9     10                 Florida       SEC (East)      7   10     3   5.91   \n",
            "10    11               Texas A&M       SEC (West)     16    9     4  10.78   \n",
            "11    12       Mississippi State       SEC (West)    NaN    8     5  -2.98   \n",
            "12    13                    Iowa   Big Ten (West)     25    9     4    3.6   \n",
            "13    14                Missouri       SEC (East)    NaN    8     5   9.51   \n",
            "14    15           West Virginia           Big 12     20    8     4  10.45   \n",
            "15    16            Fresno State       MWC (West)     18   12     2  -0.04   \n",
            "16    17              Penn State   Big Ten (East)     17    9     4   5.05   \n",
            "17    18        Washington State   Pac-12 (North)     10   11     2  10.05   \n",
            "18    19                Syracuse   ACC (Atlantic)     15   10     3  10.39   \n",
            "19    20                Kentucky       SEC (East)     12   10     3   0.57   \n",
            "20    21              Washington   Pac-12 (North)     13   10     4   -0.2   \n",
            "21    22                   Texas           Big 12      9   10     4   5.83   \n",
            "22    23                  Auburn       SEC (West)    NaN    8     5   0.59   \n",
            "23    24                    Utah   Pac-12 (South)    NaN    9     5   1.68   \n",
            "24    25       Appalachian State  Sun Belt (East)    NaN   11     2   0.09   \n",
            "25    26              Utah State   MWC (Mountain)     22   11     2   7.51   \n",
            "26    27             Boise State   MWC (Mountain)     23   10     3   5.61   \n",
            "27    28              Iowa State           Big 12    NaN    8     5   1.25   \n",
            "28    29                Stanford   Pac-12 (North)    NaN    9     4    3.5   \n",
            "29    30               Wisconsin   Big Ten (West)    NaN    8     5    3.5   \n",
            "30    31            Northwestern   Big Ten (West)     21    9     5   2.41   \n",
            "31    32          South Carolina       SEC (East)    NaN    7     6   5.42   \n",
            "32    33                    Army              Ind     19   11     2  -3.18   \n",
            "33    34              Cincinnati  American (East)     24   11     2  -2.43   \n",
            "34    35                Virginia    ACC (Coastal)    NaN    8     5  -0.26   \n",
            "35    36                  Purdue   Big Ten (West)    NaN    6     7   5.72   \n",
            "36    37          Oklahoma State           Big 12    NaN    7     6  10.15   \n",
            "37    38    North Carolina State   ACC (Atlantic)    NaN    9     4   2.18   \n",
            "38    39                  Oregon   Pac-12 (North)    NaN    9     4   5.25   \n",
            "39    40              Miami (FL)    ACC (Coastal)    NaN    7     6  -3.13   \n",
            "40    41                    Duke    ACC (Coastal)    NaN    8     5   2.82   \n",
            "41    42              Vanderbilt       SEC (East)    NaN    6     7    3.5   \n",
            "42    43          Michigan State   Big Ten (East)    NaN    7     6   -5.9   \n",
            "43    44                    Pitt    ACC (Coastal)    NaN    7     7   1.25   \n",
            "44    45           Arizona State   Pac-12 (South)    NaN    7     6    5.2   \n",
            "45    46               Minnesota   Big Ten (West)    NaN    7     6   0.93   \n",
            "46    47              Texas Tech           Big 12    NaN    5     7   5.12   \n",
            "47    48          Boston College   ACC (Atlantic)    NaN    7     5   2.04   \n",
            "48    49                    Ohio       MAC (East)    NaN    9     4   6.67   \n",
            "49    50         Texas Christian           Big 12    NaN    7     6  -4.55   \n",
            "50    51        Georgia Southern  Sun Belt (East)    NaN   10     3    0.2   \n",
            "51    52                Nebraska   Big Ten (West)    NaN    4     8   5.53   \n",
            "52    53                  Baylor           Big 12    NaN    7     6   3.71   \n",
            "53    54                     BYU              Ind    NaN    7     6  -2.17   \n",
            "54    55                    Troy  Sun Belt (East)    NaN   10     3  -1.62   \n",
            "55    56                Maryland   Big Ten (East)    NaN    5     7   2.87   \n",
            "56    57                Ole Miss       SEC (West)    NaN    5     7      7   \n",
            "57    58            Georgia Tech    ACC (Coastal)    NaN    7     6   4.43   \n",
            "58    59                 Indiana   Big Ten (East)    NaN    5     7    3.9   \n",
            "59    60             Wake Forest   ACC (Atlantic)    NaN    7     6   4.56   \n",
            "60    61                 Memphis  American (West)    NaN    8     6   7.75   \n",
            "61    62                     USC   Pac-12 (South)    NaN    5     7   0.55   \n",
            "62    63                     UAB      CUSA (West)    NaN   11     3   -3.8   \n",
            "63    64                  Temple  American (East)    NaN    8     5    2.3   \n",
            "64    65              California   Pac-12 (North)    NaN    7     6  -5.72   \n",
            "65    66                 Buffalo       MAC (East)    NaN   10     4   3.52   \n",
            "66    67            Kansas State           Big 12    NaN    5     7  -2.41   \n",
            "67    68                 Houston  American (West)    NaN    8     5  10.81   \n",
            "68    69          Arkansas State  Sun Belt (West)    NaN    8     5      0   \n",
            "69    70                Marshall      CUSA (East)    NaN    9     4  -1.21   \n",
            "70    71  Middle Tennessee State      CUSA (East)    NaN    8     6   1.28   \n",
            "71    72             North Texas      CUSA (West)    NaN    9     4   1.51   \n",
            "72    73               Tennessee       SEC (East)    NaN    5     7  -3.21   \n",
            "73    74           Virginia Tech    ACC (Coastal)    NaN    6     7   3.51   \n",
            "74    75   Florida International      CUSA (East)    NaN    9     4   0.32   \n",
            "75    76                 Arizona   Pac-12 (South)    NaN    5     7   2.69   \n",
            "76    77                  Toledo       MAC (West)    NaN    7     6   7.26   \n",
            "77    78              Miami (OH)       MAC (East)    NaN    6     6   1.18   \n",
            "78    79                  Tulane  American (West)    NaN    7     6  -2.86   \n",
            "79    80        Eastern Michigan       MAC (West)    NaN    7     6   -1.3   \n",
            "80    81                Colorado   Pac-12 (South)    NaN    5     7  -1.51   \n",
            "81    82                  Nevada       MWC (West)    NaN    8     5  -1.31   \n",
            "82    83           Florida State   ACC (Atlantic)    NaN    5     7  -1.22   \n",
            "83    84               Air Force   MWC (Mountain)    NaN    5     7   0.47   \n",
            "84    85       Northern Illinois       MAC (West)    NaN    8     6  -5.55   \n",
            "85    86                    UCLA   Pac-12 (South)    NaN    3     9   1.68   \n",
            "86    87               Louisiana  Sun Belt (West)    NaN    7     7   4.76   \n",
            "87    88        Florida Atlantic      CUSA (East)    NaN    5     7   1.02   \n",
            "88    89         San Diego State       MWC (West)    NaN    7     6  -7.68   \n",
            "89    90                 Wyoming   MWC (Mountain)    NaN    6     6  -9.14   \n",
            "90    91    Southern Mississippi      CUSA (West)    NaN    6     5   -4.2   \n",
            "91    92                Arkansas       SEC (West)    NaN    2    10  -3.67   \n",
            "92    93          North Carolina    ACC (Coastal)    NaN    2     9   2.63   \n",
            "93    94          Louisiana Tech      CUSA (West)    NaN    8     5  -5.29   \n",
            "94    95                  Kansas           Big 12    NaN    3     9   -3.3   \n",
            "95    96        Western Michigan       MAC (West)    NaN    7     6   0.29   \n",
            "96    97                     SMU  American (West)    NaN    5     7   2.39   \n",
            "97    98        Louisiana-Monroe  Sun Belt (West)    NaN    6     6  -3.05   \n",
            "98    99                Illinois   Big Ten (West)    NaN    4     8  -0.15   \n",
            "99   100                  Hawaii       MWC (West)    NaN    8     6   4.32   \n",
            "100  101           South Florida  American (East)    NaN    7     6  -1.11   \n",
            "101  102                    Navy  American (West)    NaN    3    10  -2.77   \n",
            "102  103               Charlotte      CUSA (East)    NaN    5     7  -6.35   \n",
            "103  104                 Liberty              Ind    NaN    6     6   0.36   \n",
            "104  105        Coastal Carolina  Sun Belt (East)    NaN    5     7  -2.63   \n",
            "105  106                 Rutgers   Big Ten (East)    NaN    1    11 -11.77   \n",
            "106  107                   Tulsa  American (West)    NaN    3     9  -6.97   \n",
            "107  108              Louisville   ACC (Atlantic)    NaN    2    10  -3.61   \n",
            "108  109        Nevada-Las Vegas       MWC (West)    NaN    4     8  -0.68   \n",
            "109  110              Ball State       MAC (West)    NaN    4     8   -5.4   \n",
            "110  111            Oregon State   Pac-12 (North)    NaN    2    10   0.63   \n",
            "111  112           Massachusetts              Ind    NaN    4     8   2.36   \n",
            "112  113           East Carolina  American (East)    NaN    3     9  -7.93   \n",
            "113  114              New Mexico   MWC (Mountain)    NaN    3     9  -3.64   \n",
            "114  115                   Akron       MAC (East)    NaN    4     8  -9.64   \n",
            "115  116          Colorado State   MWC (Mountain)    NaN    3     9  -5.35   \n",
            "116  117            Old Dominion      CUSA (East)    NaN    4     8   -2.4   \n",
            "117  118          San Jose State       MWC (West)    NaN    1    11   -5.6   \n",
            "118  119           South Alabama  Sun Belt (West)    NaN    3     9   -5.3   \n",
            "119  120        Western Kentucky      CUSA (East)    NaN    3     9  -9.34   \n",
            "120  121           Georgia State  Sun Belt (East)    NaN    2    10  -4.95   \n",
            "121  122             Texas State  Sun Belt (West)    NaN    3     9  -9.84   \n",
            "122  123              Kent State       MAC (East)    NaN    2    10  -7.93   \n",
            "123  124     Bowling Green State       MAC (East)    NaN    3     9  -6.03   \n",
            "124  125        Central Michigan       MAC (West)    NaN    1    11 -13.25   \n",
            "125  126                    UTSA      CUSA (West)    NaN    3     9 -13.77   \n",
            "126  127        New Mexico State              Ind    NaN    3     9  -4.85   \n",
            "127  128             Connecticut  American (East)    NaN    1    11  -7.24   \n",
            "128  129                    Rice      CUSA (West)    NaN    2    11 -11.13   \n",
            "129  130                    UTEP      CUSA (West)    NaN    1    11 -12.53   \n",
            "\n",
            "      DSRS    SRS  \n",
            "0    17.04  26.45  \n",
            "1     13.1  25.29  \n",
            "2    11.17  20.69  \n",
            "3    -3.35  18.06  \n",
            "4      2.5  17.74  \n",
            "5    11.84   17.4  \n",
            "6    10.56  16.47  \n",
            "7     6.81   15.2  \n",
            "8     4.29  14.53  \n",
            "9     7.75  13.66  \n",
            "10    2.82  13.61  \n",
            "11   16.22  13.24  \n",
            "12    9.53  13.14  \n",
            "13    3.63  13.14  \n",
            "14    2.14   12.6  \n",
            "15   12.36  12.32  \n",
            "16    7.27  12.32  \n",
            "17    2.14  12.19  \n",
            "18    1.75  12.14  \n",
            "19   11.49  12.06  \n",
            "20   11.62  11.42  \n",
            "21    5.33  11.15  \n",
            "22   10.17  10.76  \n",
            "23    8.23   9.91  \n",
            "24    9.68   9.76  \n",
            "25    2.08   9.58  \n",
            "26    3.09   8.69  \n",
            "27    6.53   7.78  \n",
            "28    4.21   7.71  \n",
            "29    4.17   7.68  \n",
            "30     5.1   7.51  \n",
            "31    1.92   7.34  \n",
            "32   10.45   7.27  \n",
            "33    9.58   7.15  \n",
            "34    7.38   7.11  \n",
            "35    1.32   7.04  \n",
            "36   -3.33   6.82  \n",
            "37    4.62    6.8  \n",
            "38    1.42   6.67  \n",
            "39     9.7   6.58  \n",
            "40    3.54   6.37  \n",
            "41    2.75   6.25  \n",
            "42   11.91   6.01  \n",
            "43    4.45    5.7  \n",
            "44    0.17   5.37  \n",
            "45    4.35   5.28  \n",
            "46   -0.03   5.09  \n",
            "47    2.57   4.61  \n",
            "48   -2.16   4.51  \n",
            "49    8.43   3.88  \n",
            "50     3.6    3.8  \n",
            "51   -2.04   3.48  \n",
            "52   -0.47   3.25  \n",
            "53    5.24   3.07  \n",
            "54    4.67   3.05  \n",
            "55    0.01   2.88  \n",
            "56   -4.19   2.81  \n",
            "57   -1.66   2.76  \n",
            "58   -1.46   2.44  \n",
            "59   -2.15   2.41  \n",
            "60   -5.48   2.27  \n",
            "61    1.68   2.22  \n",
            "62    5.79   1.99  \n",
            "63   -0.52   1.78  \n",
            "64    7.39   1.67  \n",
            "65   -1.95   1.57  \n",
            "66    3.81   1.39  \n",
            "67   -9.64   1.18  \n",
            "68    0.92   0.92  \n",
            "69     1.9   0.69  \n",
            "70   -0.64   0.65  \n",
            "71   -0.93   0.58  \n",
            "72    3.59   0.39  \n",
            "73   -3.88  -0.37  \n",
            "74   -0.85  -0.53  \n",
            "75   -3.27  -0.57  \n",
            "76   -7.95   -0.7  \n",
            "77    -1.9  -0.73  \n",
            "78       2  -0.86  \n",
            "79    0.14  -1.16  \n",
            "80    0.34  -1.17  \n",
            "81   -0.32  -1.62  \n",
            "82   -0.45  -1.67  \n",
            "83   -2.19  -1.72  \n",
            "84    3.63  -1.92  \n",
            "85   -3.87  -2.19  \n",
            "86   -7.23  -2.46  \n",
            "87   -3.75  -2.73  \n",
            "88    4.36  -3.32  \n",
            "89    5.69  -3.45  \n",
            "90    0.02  -4.18  \n",
            "91   -0.96  -4.63  \n",
            "92   -7.38  -4.75  \n",
            "93    0.51  -4.78  \n",
            "94   -1.56  -4.86  \n",
            "95   -5.22  -4.92  \n",
            "96   -7.77  -5.38  \n",
            "97   -2.45   -5.5  \n",
            "98    -5.9  -6.05  \n",
            "99  -10.45  -6.13  \n",
            "100  -5.17  -6.28  \n",
            "101  -4.32  -7.09  \n",
            "102  -0.98  -7.33  \n",
            "103  -9.49  -9.12  \n",
            "104  -6.55  -9.17  \n",
            "105   2.12  -9.65  \n",
            "106  -2.77  -9.74  \n",
            "107  -6.23  -9.84  \n",
            "108   -9.3  -9.98  \n",
            "109   -5.1 -10.49  \n",
            "110 -11.49 -10.86  \n",
            "111 -13.42 -11.06  \n",
            "112  -3.15 -11.08  \n",
            "113  -7.66  -11.3  \n",
            "114  -2.02 -11.66  \n",
            "115  -7.39 -12.74  \n",
            "116 -10.47 -12.87  \n",
            "117  -7.33 -12.93  \n",
            "118  -8.26 -13.56  \n",
            "119  -4.78 -14.11  \n",
            "120  -9.46 -14.41  \n",
            "121  -4.66  -14.5  \n",
            "122  -7.13 -15.05  \n",
            "123  -9.09 -15.11  \n",
            "124  -2.51 -15.76  \n",
            "125  -2.63  -16.4  \n",
            "126 -12.74 -17.59  \n",
            "127 -11.76 -18.99  \n",
            "128  -8.05 -19.18  \n",
            "129 -10.34 -22.88  \n"
          ],
          "name": "stdout"
        }
      ]
    },
    {
      "cell_type": "code",
      "metadata": {
        "id": "k6wNn8evG75x"
      },
      "source": [
        "#Rename schools using regex\r\n",
        "recordsdf['School'] = recordsdf['School'].replace({'UTEP':'Texas-El Paso','UTSA': 'Texas-San Antonio'}, regex=True).astype(str)"
      ],
      "execution_count": 30,
      "outputs": []
    },
    {
      "cell_type": "code",
      "metadata": {
        "colab": {
          "base_uri": "https://localhost:8080/"
        },
        "id": "b-i4PHQNG8Bp",
        "outputId": "0d348245-778d-42e6-8d3d-a803327ee91c"
      },
      "source": [
        "##Merge DataFrames together for analysis\r\n",
        "newcoaches = pd.merge(newcoaches, recordsdf, on=\"School\")\r\n",
        "print(newcoaches)"
      ],
      "execution_count": 31,
      "outputs": [
        {
          "output_type": "stream",
          "text": [
            "                    School Conference_x               Coach   TotalPay  \\\n",
            "0                Air Force     Mt. West        Troy Calhoun   885000.0   \n",
            "1                    Akron          MAC        Terry Bowden   412500.0   \n",
            "2                  Alabama          SEC          Nick Saban  8307000.0   \n",
            "3        Appalachian State     Sun Belt   Scott Satterfield   712500.0   \n",
            "4                  Arizona       Pac-12        Kevin Sumlin  2000000.0   \n",
            "5            Arizona State       Pac-12        Herm Edwards  2000000.0   \n",
            "6                 Arkansas          SEC         Chad Morris  3500000.0   \n",
            "7           Arkansas State     Sun Belt      Blake Anderson   825000.0   \n",
            "8                   Auburn          SEC         Gus Malzahn  6705656.0   \n",
            "9               Ball State          MAC            Mike Neu   435689.0   \n",
            "10             Boise State     Mt. West        Bryan Harsin  1650010.0   \n",
            "11          Boston College          ACC       Steve Addazio  2514859.0   \n",
            "12                 Buffalo          MAC       Lance Leipold   455500.0   \n",
            "13              California       Pac-12       Justin Wilcox  1500000.0   \n",
            "14        Central Michigan          MAC       John Bonamego   655000.0   \n",
            "15              Cincinnati          AAC        Luke Fickell  2000000.0   \n",
            "16                 Clemson          ACC        Dabo Swinney  6543350.0   \n",
            "17                Colorado       Pac-12      Mike MacIntyre  2878500.0   \n",
            "18          Colorado State     Mt. West           Mike Bobo  1800000.0   \n",
            "19             Connecticut          AAC        Randy Edsall  1100000.0   \n",
            "20                    Duke          ACC     David Cutcliffe  2540928.0   \n",
            "21           East Carolina          AAC  Scottie Montgomery  1102500.0   \n",
            "22        Eastern Michigan          MAC     Chris Creighton   460000.0   \n",
            "23                 Florida          SEC          Dan Mullen  6070000.0   \n",
            "24        Florida Atlantic        C-USA         Lane Kiffin  1000000.0   \n",
            "25   Florida International        C-USA         Butch Davis   945000.0   \n",
            "26           Florida State          ACC      Willie Taggart  5000000.0   \n",
            "27            Fresno State     Mt. West        Jeff Tedford  1550000.0   \n",
            "28                 Georgia          SEC         Kirby Smart  6603600.0   \n",
            "29        Georgia Southern     Sun Belt       Chad Lunsford   650000.0   \n",
            "30           Georgia State     Sun Belt       Shawn Elliott   569000.0   \n",
            "31            Georgia Tech          ACC        Paul Johnson  3060018.0   \n",
            "32                  Hawaii     Mt. West       Nick Rolovich   486504.0   \n",
            "33                 Houston          AAC    Major Applewhite  1750000.0   \n",
            "34                Illinois      Big Ten         Lovie Smith  5000000.0   \n",
            "35                 Indiana      Big Ten           Tom Allen  1830000.0   \n",
            "36                    Iowa      Big Ten        Kirk Ferentz  4700000.0   \n",
            "37              Iowa State       Big 12       Matt Campbell  3500000.0   \n",
            "38                  Kansas       Big 12         David Beaty  1701109.0   \n",
            "39            Kansas State       Big 12         Bill Snyder  3500000.0   \n",
            "40              Kent State          MAC          Sean Lewis   440000.0   \n",
            "41                Kentucky          SEC         Mark Stoops  4013600.0   \n",
            "42          Louisiana Tech        C-USA          Skip Holtz   700000.0   \n",
            "43        Louisiana-Monroe     Sun Belt         Matt Viator   390000.0   \n",
            "44              Louisville          ACC       Bobby Petrino  3980434.0   \n",
            "45                     LSU          SEC          Ed Orgeron  3500000.0   \n",
            "46                Marshall        C-USA        Doc Holliday   762570.0   \n",
            "47                Maryland      Big Ten           DJ Durkin  2512000.0   \n",
            "48                 Memphis          AAC        Mike Norvell  2600000.0   \n",
            "49                Michigan      Big Ten        Jim Harbaugh  7504000.0   \n",
            "50          Michigan State      Big Ten       Mark Dantonio  4390417.0   \n",
            "51               Minnesota      Big Ten          P.J. Fleck  3550000.0   \n",
            "52       Mississippi State          SEC        Joe Moorhead  2600000.0   \n",
            "53                Missouri          SEC          Barry Odom  2350000.0   \n",
            "54                    Navy          AAC     Ken Niumatalolo  2163000.0   \n",
            "55                Nebraska      Big Ten         Scott Frost  5000000.0   \n",
            "56                  Nevada     Mt. West         Jay Norvell   500000.0   \n",
            "57              New Mexico     Mt. West           Bob Davie   823740.0   \n",
            "58        New Mexico State         Ind.         Doug Martin   419640.0   \n",
            "59          North Carolina          ACC        Larry Fedora  2575000.0   \n",
            "60             North Texas        C-USA       Seth Littrell  1425000.0   \n",
            "61            Northwestern      Big Ten      Pat Fitzgerald  3619775.0   \n",
            "62              Notre Dame         Ind.         Brian Kelly  2129638.0   \n",
            "63                    Ohio          MAC        Frank Solich   580331.0   \n",
            "64              Ohio State      Big Ten         Urban Meyer  7600000.0   \n",
            "65                Oklahoma       Big 12       Lincoln Riley  4800000.0   \n",
            "66          Oklahoma State       Big 12          Mike Gundy  5000000.0   \n",
            "67            Old Dominion        C-USA        Bobby Wilder   654667.0   \n",
            "68                  Oregon       Pac-12     Mario Cristobal  2500000.0   \n",
            "69            Oregon State       Pac-12      Jonathan Smith  1900008.0   \n",
            "70              Penn State      Big Ten      James Franklin  4800000.0   \n",
            "71                  Purdue      Big Ten          Jeff Brohm  3800000.0   \n",
            "72                 Rutgers      Big Ten           Chris Ash  2200000.0   \n",
            "73         San Diego State     Mt. West          Rocky Long   873576.0   \n",
            "74          San Jose State     Mt. West       Brent Brennan   590424.0   \n",
            "75           South Alabama     Sun Belt      Steve Campbell   600000.0   \n",
            "76          South Carolina          SEC       Will Muschamp  4200000.0   \n",
            "77                Stanford       Pac-12          David Shaw  4311543.0   \n",
            "78                Syracuse          ACC         Dino Babers  2401206.0   \n",
            "79               Tennessee          SEC       Jeremy Pruitt  3846000.0   \n",
            "80               Texas A&M          SEC        Jimbo Fisher  7500000.0   \n",
            "81             Texas State     Sun Belt     Everett Withers   700000.0   \n",
            "82              Texas Tech       Big 12     Kliff Kingsbury  3703975.0   \n",
            "83           Texas-El Paso        C-USA          Dana Dimel   700000.0   \n",
            "84       Texas-San Antonio        C-USA        Frank Wilson  1100000.0   \n",
            "85                  Toledo          MAC        Jason Candle  1125000.0   \n",
            "86                    Troy     Sun Belt          Neal Brown   810000.0   \n",
            "87                  Tulane          AAC        Willie Fritz  1629000.0   \n",
            "88                   Tulsa          AAC   Philip Montgomery  1518177.0   \n",
            "89                    UCLA       Pac-12          Chip Kelly  3300000.0   \n",
            "90                    Utah       Pac-12    Kyle Whittingham  3787917.0   \n",
            "91              Utah State     Mt. West          Matt Wells   900000.0   \n",
            "92              Vanderbilt          SEC         Derek Mason  2812523.0   \n",
            "93                Virginia          ACC   Bronco Mendenhall  3550000.0   \n",
            "94           Virginia Tech          ACC       Justin Fuente  4000000.0   \n",
            "95             Wake Forest          ACC        Dave Clawson  1831580.0   \n",
            "96              Washington       Pac-12      Chris Petersen  4377500.0   \n",
            "97        Washington State       Pac-12          Mike Leach  3500000.0   \n",
            "98           West Virginia       Big 12      Dana Holgorsen  3617500.0   \n",
            "99        Western Kentucky        C-USA    Mike Sanford Jr.   805850.0   \n",
            "100       Western Michigan          MAC          Tim Lester   800000.0   \n",
            "101              Wisconsin      Big Ten         Paul Chryst  3750000.0   \n",
            "102                Wyoming     Mt. West          Craig Bohl  1412000.0   \n",
            "\n",
            "         Bonus  BonusPaid      Buyout    FGR   GSR  Stadium_Capacity Rank  \\\n",
            "0     247000.0        NaN         NaN    NaN  77.0             46692   84   \n",
            "1     225000.0    50000.0    688500.0   61.0  72.0             30000  115   \n",
            "2    1100000.0   500000.0  33600000.0   63.0  84.0            101821    2   \n",
            "3     295000.0   145000.0   2160417.0   67.0  71.0             24050   25   \n",
            "4    2025000.0        NaN  10000000.0   63.0  76.0             51811   76   \n",
            "5    3010000.0        NaN   8166667.0   61.0  73.0             71706   45   \n",
            "6    1000000.0        NaN  12500000.0   42.0  56.0             72000   92   \n",
            "7     185000.0    25000.0    300000.0   68.0  83.0             30964   69   \n",
            "8    1400000.0   375000.0  32143750.0   60.0  72.0             87451   23   \n",
            "9     380000.0    30000.0    980300.0   60.0  70.0             22500  110   \n",
            "10    475000.0   145000.0   7784038.0   69.0  89.0             37000   27   \n",
            "11         NaN        NaN         NaN   76.0  88.0             44500   48   \n",
            "12    381000.0        0.0   1020833.0   56.0  70.0             29013   66   \n",
            "13    900000.0    75000.0   7208500.0   52.0  64.0             62717   65   \n",
            "14    415000.0    45000.0   1125000.0   58.0  71.0             32885  125   \n",
            "15    625000.0        0.0   7100000.0   65.0  82.0             40000   34   \n",
            "16   1125000.0   500000.0  35000000.0   70.0  87.0             81500    1   \n",
            "17   2150000.0   297000.0  10314583.0   63.0  85.0             50183   81   \n",
            "18    905000.0    50000.0   8000000.0   61.0  73.0             34400  116   \n",
            "19    650000.0   129000.0   1000000.0   68.0  79.0             40000  128   \n",
            "20         NaN        NaN         NaN   89.0  96.0             33941   41   \n",
            "21    850000.0        0.0   1233333.0   67.0  72.0             50000  113   \n",
            "22    395000.0    10000.0    950000.0   42.0  67.0             30200   80   \n",
            "23    925000.0        NaN  12000000.0   42.0  74.0             88548   10   \n",
            "24   1150000.0    40000.0   2850000.0   58.0  69.0             30000   88   \n",
            "25    550000.0    35000.0   3185626.0   60.0  70.0             23500   75   \n",
            "26   1475000.0        NaN  21958333.0   52.0  65.0             82300   83   \n",
            "27   2765000.0  1240000.0   5440000.0   69.0  76.0             41031   16   \n",
            "28   1150000.0  1350000.0  27917500.0   42.0  58.0             92746    3   \n",
            "29    295000.0        NaN     83333.0   50.0  62.0             24300   51   \n",
            "30    220000.0    60000.0   1500000.0   71.0  60.0             28155  121   \n",
            "31   1330000.0   225000.0   4000000.0   73.0  86.0             55000   58   \n",
            "32   1260000.0        0.0    300000.0   56.0  79.0             50000  100   \n",
            "33    782500.0    20000.0   2112500.0   60.0  65.0             40000   68   \n",
            "34   1000000.0    50000.0  12636991.0   65.0  81.0             60670   99   \n",
            "35   1441668.0        0.0   2000000.0   68.0  83.0             52959   59   \n",
            "36   2875000.0   600000.0  22396250.0   64.0  80.0             70585   13   \n",
            "37    750000.0   650000.0  19291667.0   62.0  82.0             61500   28   \n",
            "38   2000000.0        0.0   3000000.0   62.0  78.0             50071   95   \n",
            "39    580000.0    50000.0   3000000.0   64.0  82.0             50000   67   \n",
            "40    406000.0        NaN   1150000.0   62.0  76.0             25000  123   \n",
            "41   3100000.0   300000.0  15625000.0   54.0  74.0             62093   20   \n",
            "42    395000.0        0.0   2508333.0   53.0  65.0             30600   94   \n",
            "43     50000.0        0.0    175000.0   63.0  72.0             30427   98   \n",
            "44   1472917.0   869917.0  14056250.0   77.0  86.0             55000  108   \n",
            "45   1575000.0   100000.0   5291667.0   41.0  73.0            102321    8   \n",
            "46    145000.0    55000.0   1951708.0   57.0  78.0             38019   70   \n",
            "47    625000.0        0.0   5096178.0   66.0  84.0             51802   56   \n",
            "48    775000.0   185000.0   7431667.0   46.0  76.0             62380   61   \n",
            "49   1325000.0   150000.0  17111110.0   69.0  87.0            107601    7   \n",
            "50    650000.0   125000.0   7000000.0   67.0  82.0             75005   43   \n",
            "51    900000.0        0.0   9291667.0   71.0  89.0             52525   46   \n",
            "52   1350000.0        NaN         0.0   68.0  83.0             61337   12   \n",
            "53   1025000.0   375000.0   1912500.0   77.0  89.0             71168   14   \n",
            "54         NaN        NaN         NaN  100.0  81.0             34000  102   \n",
            "55    950000.0        NaN  25416667.0   72.0  82.0             87091   52   \n",
            "56    210000.0        0.0    900000.0   43.0  69.0             30000   82   \n",
            "57    340000.0        0.0   1303294.0   41.0  59.0             39224  114   \n",
            "58    220000.0    20000.0   1532790.0   63.0  73.0             30343  127   \n",
            "59    900000.0    50000.0  12215625.0   48.0  62.0             62980   93   \n",
            "60    580000.0   130000.0   4425000.0   65.0  80.0             30850   72   \n",
            "61         NaN        NaN         NaN   92.0  99.0             47130   31   \n",
            "62         NaN        NaN         NaN   87.0  95.0             80795    6   \n",
            "63    333833.0    60772.0    558275.0   68.0  80.0             24000   49   \n",
            "64    775000.0   350000.0  38058402.0   44.0  64.0            104944    5   \n",
            "65    700000.0   180000.0  20833333.0   59.0  76.0             82112    4   \n",
            "66    900000.0    62500.0  16250000.0   36.0  46.0             60218   37   \n",
            "67    504895.0        0.0   1200000.0   49.0  70.0             20118  117   \n",
            "68   1825000.0        NaN   5208333.0   63.0  71.0             54000   39   \n",
            "69   1275000.0        NaN   4037517.0   47.0  64.0             45674  111   \n",
            "70   1000000.0   300000.0  18375000.0   66.0  82.0            106572   17   \n",
            "71   1290000.0   180000.0  21516667.0   64.0  77.0             56400   36   \n",
            "72    960000.0    50000.0  10350000.0   55.0  78.0             52454  106   \n",
            "73    720000.0    95000.0    447412.0   70.0  74.0             70561   89   \n",
            "74    210000.0        0.0   1476060.0   74.0  80.0             30456  118   \n",
            "75    295000.0        NaN    918333.0   55.0  66.0             33500  119   \n",
            "76   1400000.0   100000.0  18650000.0   63.0  93.0             80250   32   \n",
            "77         NaN        NaN         NaN   88.0  95.0             50000   29   \n",
            "78         NaN        NaN         NaN   70.0  85.0             49250   19   \n",
            "79   1200000.0        NaN  11780000.0   59.0  74.0            102455   73   \n",
            "80   1350000.0        NaN  68125000.0   60.0  71.0            102733   11   \n",
            "81     70833.0        0.0    773958.0   63.0  71.0             30000  122   \n",
            "82   1500000.0    25000.0   4231250.0   65.0  76.0             60862   47   \n",
            "83    741665.0        NaN   2991667.0   51.0  79.0             51500  130   \n",
            "84    185000.0    17500.0   3562500.0   63.0  80.0             65000  126   \n",
            "85    585000.0   210000.0   3558333.0   69.0  79.0             26248   77   \n",
            "86    490000.0   100000.0   2911667.0   57.0  73.0             30000   55   \n",
            "87         NaN        NaN         NaN   69.0  88.0             30000   79   \n",
            "88         NaN        NaN         NaN   75.0  77.0             35542  107   \n",
            "89   1085000.0        NaN   9000000.0   66.0  84.0             92542   86   \n",
            "90    935000.0   279167.0   9250000.0   67.0  95.0             45017   24   \n",
            "91    765000.0    65000.0   2122917.0   63.0  92.0             25513   26   \n",
            "92         NaN        NaN         NaN   84.0  95.0             40350   42   \n",
            "93   2165000.0    75000.0  18193750.0   72.0  85.0             61500   35   \n",
            "94    435000.0    75000.0  15000000.0   74.0  90.0             66233   74   \n",
            "95         NaN        NaN         NaN   74.0  89.0             31500   60   \n",
            "96   1050000.0   300000.0  26354166.0   66.0  84.0             70500   21   \n",
            "97    725000.0    75000.0   4900000.0   56.0  75.0             32248   18   \n",
            "98   1000000.0    90000.0   7150000.0   60.0  65.0             60000   15   \n",
            "99    400000.0        0.0   1200000.0   55.0  74.0             22113  120   \n",
            "100   346500.0    39250.0    800000.0   54.0  75.0             30200   96   \n",
            "101        NaN   290000.0   6000000.0   72.0  86.0             80321   30   \n",
            "102   450000.0   236000.0   8016667.0   47.0  78.0             29181   90   \n",
            "\n",
            "        Conference_y APRank Wins Loses   OSRS   DSRS    SRS  \n",
            "0     MWC (Mountain)    NaN    5     7   0.47  -2.19  -1.72  \n",
            "1         MAC (East)    NaN    4     8  -9.64  -2.02 -11.66  \n",
            "2         SEC (West)      2   14     1  12.19   13.1  25.29  \n",
            "3    Sun Belt (East)    NaN   11     2   0.09   9.68   9.76  \n",
            "4     Pac-12 (South)    NaN    5     7   2.69  -3.27  -0.57  \n",
            "5     Pac-12 (South)    NaN    7     6    5.2   0.17   5.37  \n",
            "6         SEC (West)    NaN    2    10  -3.67  -0.96  -4.63  \n",
            "7    Sun Belt (West)    NaN    8     5      0   0.92   0.92  \n",
            "8         SEC (West)    NaN    8     5   0.59  10.17  10.76  \n",
            "9         MAC (West)    NaN    4     8   -5.4   -5.1 -10.49  \n",
            "10    MWC (Mountain)     23   10     3   5.61   3.09   8.69  \n",
            "11    ACC (Atlantic)    NaN    7     5   2.04   2.57   4.61  \n",
            "12        MAC (East)    NaN   10     4   3.52  -1.95   1.57  \n",
            "13    Pac-12 (North)    NaN    7     6  -5.72   7.39   1.67  \n",
            "14        MAC (West)    NaN    1    11 -13.25  -2.51 -15.76  \n",
            "15   American (East)     24   11     2  -2.43   9.58   7.15  \n",
            "16    ACC (Atlantic)      1   15     0   9.41  17.04  26.45  \n",
            "17    Pac-12 (South)    NaN    5     7  -1.51   0.34  -1.17  \n",
            "18    MWC (Mountain)    NaN    3     9  -5.35  -7.39 -12.74  \n",
            "19   American (East)    NaN    1    11  -7.24 -11.76 -18.99  \n",
            "20     ACC (Coastal)    NaN    8     5   2.82   3.54   6.37  \n",
            "21   American (East)    NaN    3     9  -7.93  -3.15 -11.08  \n",
            "22        MAC (West)    NaN    7     6   -1.3   0.14  -1.16  \n",
            "23        SEC (East)      7   10     3   5.91   7.75  13.66  \n",
            "24       CUSA (East)    NaN    5     7   1.02  -3.75  -2.73  \n",
            "25       CUSA (East)    NaN    9     4   0.32  -0.85  -0.53  \n",
            "26    ACC (Atlantic)    NaN    5     7  -1.22  -0.45  -1.67  \n",
            "27        MWC (West)     18   12     2  -0.04  12.36  12.32  \n",
            "28        SEC (East)      7   11     3   9.53  11.17  20.69  \n",
            "29   Sun Belt (East)    NaN   10     3    0.2    3.6    3.8  \n",
            "30   Sun Belt (East)    NaN    2    10  -4.95  -9.46 -14.41  \n",
            "31     ACC (Coastal)    NaN    7     6   4.43  -1.66   2.76  \n",
            "32        MWC (West)    NaN    8     6   4.32 -10.45  -6.13  \n",
            "33   American (West)    NaN    8     5  10.81  -9.64   1.18  \n",
            "34    Big Ten (West)    NaN    4     8  -0.15   -5.9  -6.05  \n",
            "35    Big Ten (East)    NaN    5     7    3.9  -1.46   2.44  \n",
            "36    Big Ten (West)     25    9     4    3.6   9.53  13.14  \n",
            "37            Big 12    NaN    8     5   1.25   6.53   7.78  \n",
            "38            Big 12    NaN    3     9   -3.3  -1.56  -4.86  \n",
            "39            Big 12    NaN    5     7  -2.41   3.81   1.39  \n",
            "40        MAC (East)    NaN    2    10  -7.93  -7.13 -15.05  \n",
            "41        SEC (East)     12   10     3   0.57  11.49  12.06  \n",
            "42       CUSA (West)    NaN    8     5  -5.29   0.51  -4.78  \n",
            "43   Sun Belt (West)    NaN    6     6  -3.05  -2.45   -5.5  \n",
            "44    ACC (Atlantic)    NaN    2    10  -3.61  -6.23  -9.84  \n",
            "45        SEC (West)      6   10     3    8.4   6.81   15.2  \n",
            "46       CUSA (East)    NaN    9     4  -1.21    1.9   0.69  \n",
            "47    Big Ten (East)    NaN    5     7   2.87   0.01   2.88  \n",
            "48   American (West)    NaN    8     6   7.75  -5.48   2.27  \n",
            "49    Big Ten (East)     14   10     3   5.92  10.56  16.47  \n",
            "50    Big Ten (East)    NaN    7     6   -5.9  11.91   6.01  \n",
            "51    Big Ten (West)    NaN    7     6   0.93   4.35   5.28  \n",
            "52        SEC (West)    NaN    8     5  -2.98  16.22  13.24  \n",
            "53        SEC (East)    NaN    8     5   9.51   3.63  13.14  \n",
            "54   American (West)    NaN    3    10  -2.77  -4.32  -7.09  \n",
            "55    Big Ten (West)    NaN    4     8   5.53  -2.04   3.48  \n",
            "56        MWC (West)    NaN    8     5  -1.31  -0.32  -1.62  \n",
            "57    MWC (Mountain)    NaN    3     9  -3.64  -7.66  -11.3  \n",
            "58               Ind    NaN    3     9  -4.85 -12.74 -17.59  \n",
            "59     ACC (Coastal)    NaN    2     9   2.63  -7.38  -4.75  \n",
            "60       CUSA (West)    NaN    9     4   1.51  -0.93   0.58  \n",
            "61    Big Ten (West)     21    9     5   2.41    5.1   7.51  \n",
            "62               Ind      5   12     1   5.57  11.84   17.4  \n",
            "63        MAC (East)    NaN    9     4   6.67  -2.16   4.51  \n",
            "64    Big Ten (East)      3   13     1  15.24    2.5  17.74  \n",
            "65            Big 12      4   12     2  21.41  -3.35  18.06  \n",
            "66            Big 12    NaN    7     6  10.15  -3.33   6.82  \n",
            "67       CUSA (East)    NaN    4     8   -2.4 -10.47 -12.87  \n",
            "68    Pac-12 (North)    NaN    9     4   5.25   1.42   6.67  \n",
            "69    Pac-12 (North)    NaN    2    10   0.63 -11.49 -10.86  \n",
            "70    Big Ten (East)     17    9     4   5.05   7.27  12.32  \n",
            "71    Big Ten (West)    NaN    6     7   5.72   1.32   7.04  \n",
            "72    Big Ten (East)    NaN    1    11 -11.77   2.12  -9.65  \n",
            "73        MWC (West)    NaN    7     6  -7.68   4.36  -3.32  \n",
            "74        MWC (West)    NaN    1    11   -5.6  -7.33 -12.93  \n",
            "75   Sun Belt (West)    NaN    3     9   -5.3  -8.26 -13.56  \n",
            "76        SEC (East)    NaN    7     6   5.42   1.92   7.34  \n",
            "77    Pac-12 (North)    NaN    9     4    3.5   4.21   7.71  \n",
            "78    ACC (Atlantic)     15   10     3  10.39   1.75  12.14  \n",
            "79        SEC (East)    NaN    5     7  -3.21   3.59   0.39  \n",
            "80        SEC (West)     16    9     4  10.78   2.82  13.61  \n",
            "81   Sun Belt (West)    NaN    3     9  -9.84  -4.66  -14.5  \n",
            "82            Big 12    NaN    5     7   5.12  -0.03   5.09  \n",
            "83       CUSA (West)    NaN    1    11 -12.53 -10.34 -22.88  \n",
            "84       CUSA (West)    NaN    3     9 -13.77  -2.63  -16.4  \n",
            "85        MAC (West)    NaN    7     6   7.26  -7.95   -0.7  \n",
            "86   Sun Belt (East)    NaN   10     3  -1.62   4.67   3.05  \n",
            "87   American (West)    NaN    7     6  -2.86      2  -0.86  \n",
            "88   American (West)    NaN    3     9  -6.97  -2.77  -9.74  \n",
            "89    Pac-12 (South)    NaN    3     9   1.68  -3.87  -2.19  \n",
            "90    Pac-12 (South)    NaN    9     5   1.68   8.23   9.91  \n",
            "91    MWC (Mountain)     22   11     2   7.51   2.08   9.58  \n",
            "92        SEC (East)    NaN    6     7    3.5   2.75   6.25  \n",
            "93     ACC (Coastal)    NaN    8     5  -0.26   7.38   7.11  \n",
            "94     ACC (Coastal)    NaN    6     7   3.51  -3.88  -0.37  \n",
            "95    ACC (Atlantic)    NaN    7     6   4.56  -2.15   2.41  \n",
            "96    Pac-12 (North)     13   10     4   -0.2  11.62  11.42  \n",
            "97    Pac-12 (North)     10   11     2  10.05   2.14  12.19  \n",
            "98            Big 12     20    8     4  10.45   2.14   12.6  \n",
            "99       CUSA (East)    NaN    3     9  -9.34  -4.78 -14.11  \n",
            "100       MAC (West)    NaN    7     6   0.29  -5.22  -4.92  \n",
            "101   Big Ten (West)    NaN    8     5    3.5   4.17   7.68  \n",
            "102   MWC (Mountain)    NaN    6     6  -9.14   5.69  -3.45  \n"
          ],
          "name": "stdout"
        }
      ]
    },
    {
      "cell_type": "code",
      "metadata": {
        "id": "V4iIaFQ8-GGp"
      },
      "source": [
        "##Delete uneccessary columns again and rename columns for easy analysis\r\n",
        "newcoaches.columns\r\n",
        "newcoaches = newcoaches.drop(columns=['Conference_y'])\r\n",
        "newcoaches.columns = ['School','Conference','Coach','TotalPay','Bonus','BonusPaid','Buyout','FGR','GSR','Stadium_Capacity','Rank','APRank','Wins','Loses','OSRS','DSRS','SRS']\r\n",
        "##Convert object types of Rank, Wins, Loses, OSRS, DSRS, and SRS to float\r\n",
        "newcoaches['Rank'] = newcoaches['Rank'].astype(float)\r\n",
        "newcoaches['APRank'] = newcoaches['APRank'].astype(float)\r\n",
        "newcoaches['Wins'] = newcoaches['Wins'].astype(float)\r\n",
        "newcoaches['Loses'] = newcoaches['Loses'].astype(float)\r\n",
        "newcoaches['OSRS'] = newcoaches['OSRS'].astype(float)\r\n",
        "newcoaches['DSRS'] = newcoaches['DSRS'].astype(float)\r\n",
        "newcoaches['SRS'] = newcoaches['SRS'].astype(float)"
      ],
      "execution_count": 32,
      "outputs": []
    },
    {
      "cell_type": "markdown",
      "metadata": {
        "id": "sJVPYDByNXjC"
      },
      "source": [
        "## View Data at hand and view descriptive statistics"
      ]
    },
    {
      "cell_type": "code",
      "metadata": {
        "colab": {
          "base_uri": "https://localhost:8080/",
          "height": 312
        },
        "id": "MqiPecESRNBe",
        "outputId": "9c0b0b43-7730-4240-c6fb-dd8c2db2ce56"
      },
      "source": [
        "#Create plots of school based on conference\r\n",
        "#Conference TotalPay is based on median and shows error as well\r\n",
        "from numpy import median\r\n",
        "pay_plot = sns.barplot(data = newcoaches, y = 'Conference', x= 'TotalPay', orient=\"h\", estimator= median)\r\n",
        "plt.title('Total Pay Medians based on Conference(In Millions)')"
      ],
      "execution_count": 33,
      "outputs": [
        {
          "output_type": "execute_result",
          "data": {
            "text/plain": [
              "Text(0.5, 1.0, 'Total Pay Medians based on Conference(In Millions)')"
            ]
          },
          "metadata": {
            "tags": []
          },
          "execution_count": 33
        },
        {
          "output_type": "display_data",
          "data": {
            "image/png": "[encoded data removed]",
            "text/plain": [
              "<Figure size 432x288 with 1 Axes>"
            ]
          },
          "metadata": {
            "tags": [],
            "needs_background": "light"
          }
        }
      ]
    },
    {
      "cell_type": "code",
      "metadata": {
        "colab": {
          "base_uri": "https://localhost:8080/"
        },
        "id": "2JOTuHl7UPW_",
        "outputId": "0c83730e-fe7b-4a51-d7c0-ab41d745f76e"
      },
      "source": [
        "##Descriptive Statistics of TotalPay\r\n",
        "##\r\n",
        "##\r\n",
        "print(\"Mean Total Pay of Coaches:\")\r\n",
        "print(round(np.mean(newcoaches['TotalPay']), 2))\r\n",
        "print(\"\\nMedian Total Pay of Coaches:\")\r\n",
        "print(round(np.median(newcoaches['TotalPay']), 2))\r\n",
        "print(\"\\nMinimum Total Pay of Coaches:\")\r\n",
        "print(round(np.min(newcoaches['TotalPay']), 2))\r\n",
        "print(\"\\nMaximum Total Pay of Coaches:\")\r\n",
        "print(round(np.max(newcoaches['TotalPay']), 2))"
      ],
      "execution_count": 34,
      "outputs": [
        {
          "output_type": "stream",
          "text": [
            "Mean Total Pay of Coaches:\n",
            "2570260.33\n",
            "\n",
            "Median Total Pay of Coaches:\n",
            "2129638.0\n",
            "\n",
            "Minimum Total Pay of Coaches:\n",
            "390000.0\n",
            "\n",
            "Maximum Total Pay of Coaches:\n",
            "8307000.0\n"
          ],
          "name": "stdout"
        }
      ]
    },
    {
      "cell_type": "code",
      "metadata": {
        "colab": {
          "base_uri": "https://localhost:8080/"
        },
        "id": "dlHt7cJtjMbL",
        "outputId": "5eb3fcbe-3d3a-4cb5-8f2e-529b86f4ef69"
      },
      "source": [
        "#There is a big difference in some conference pay,\r\n",
        "#Count of schools in each conference to see if there are any discrepancies\r\n",
        "ConfCount = newcoaches.groupby(by='Conference', as_index=False).agg({'School': pd.Series.nunique})\r\n",
        "print(ConfCount)"
      ],
      "execution_count": 35,
      "outputs": [
        {
          "output_type": "stream",
          "text": [
            "   Conference  School\n",
            "0         AAC       8\n",
            "1         ACC      11\n",
            "2      Big 12       7\n",
            "3     Big Ten      14\n",
            "4       C-USA       9\n",
            "5        Ind.       2\n",
            "6         MAC       9\n",
            "7    Mt. West      11\n",
            "8      Pac-12      11\n",
            "9         SEC      13\n",
            "10   Sun Belt       8\n"
          ],
          "name": "stdout"
        }
      ]
    },
    {
      "cell_type": "code",
      "metadata": {
        "id": "OwEoI5BZTQM-",
        "colab": {
          "base_uri": "https://localhost:8080/"
        },
        "outputId": "8135d9b2-98ed-4f6a-8dd0-82f4b8cebd76"
      },
      "source": [
        "#Not many independent schools so they can be ommitted from analysis to get rid of skewed results\r\n",
        "print(newcoaches[newcoaches['Conference']=='Ind.'].index.values)\r\n",
        "newcoaches = newcoaches.drop(newcoaches.index[[58,62]])\r\n",
        "newcoaches = newcoaches.reset_index(drop=True)"
      ],
      "execution_count": 36,
      "outputs": [
        {
          "output_type": "stream",
          "text": [
            "[58 62]\n"
          ],
          "name": "stdout"
        }
      ]
    },
    {
      "cell_type": "code",
      "metadata": {
        "colab": {
          "base_uri": "https://localhost:8080/",
          "height": 499
        },
        "id": "mrMzD_cNTLfo",
        "outputId": "1d389cfc-7fb3-4abb-9e8b-f08ecc10b62c"
      },
      "source": [
        "#Plot Conference Counts\r\n",
        "ConfCount = newcoaches.groupby(by='Conference', as_index=False).agg({'School': pd.Series.nunique})\r\n",
        "print(ConfCount)\r\n",
        "ConfCount.columns = ['Conference', \"School Count\"]\r\n",
        "sns.barplot(data=ConfCount, y ='Conference', x = 'School Count', orient='h')\r\n",
        "plt.title('Number of Schools in each Conference Recorded')"
      ],
      "execution_count": 37,
      "outputs": [
        {
          "output_type": "stream",
          "text": [
            "  Conference  School\n",
            "0        AAC       8\n",
            "1        ACC      11\n",
            "2     Big 12       7\n",
            "3    Big Ten      14\n",
            "4      C-USA       9\n",
            "5        MAC       9\n",
            "6   Mt. West      11\n",
            "7     Pac-12      11\n",
            "8        SEC      13\n",
            "9   Sun Belt       8\n"
          ],
          "name": "stdout"
        },
        {
          "output_type": "execute_result",
          "data": {
            "text/plain": [
              "Text(0.5, 1.0, 'Number of Schools in each Conference Recorded')"
            ]
          },
          "metadata": {
            "tags": []
          },
          "execution_count": 37
        },
        {
          "output_type": "display_data",
          "data": {
            "image/png": "[encoded data removed]",
            "text/plain": [
              "<Figure size 432x288 with 1 Axes>"
            ]
          },
          "metadata": {
            "tags": [],
            "needs_background": "light"
          }
        }
      ]
    },
    {
      "cell_type": "code",
      "metadata": {
        "colab": {
          "base_uri": "https://localhost:8080/",
          "height": 287
        },
        "id": "W0T0JhFNUUXb",
        "outputId": "44d4b504-df07-48bc-fed3-92f2288fcf9d"
      },
      "source": [
        "#Boxplot showing distribution of Total Pay amoungst coaches\r\n",
        "sns.set(style=\"darkgrid\")\r\n",
        "Payboxplot = sns.boxplot(data = newcoaches, y = 'TotalPay', color= \"lightblue\")\r\n",
        "plt.title('Total Pay Distribution(in Millions)')\r\n",
        "plt.ylabel('Total Pay')"
      ],
      "execution_count": 38,
      "outputs": [
        {
          "output_type": "execute_result",
          "data": {
            "text/plain": [
              "Text(0, 0.5, 'Total Pay')"
            ]
          },
          "metadata": {
            "tags": []
          },
          "execution_count": 38
        },
        {
          "output_type": "display_data",
          "data": {
            "image/png": "[encoded data removed]",
            "text/plain": [
              "<Figure size 432x288 with 1 Axes>"
            ]
          },
          "metadata": {
            "tags": []
          }
        }
      ]
    },
    {
      "cell_type": "code",
      "metadata": {
        "colab": {
          "base_uri": "https://localhost:8080/",
          "height": 709
        },
        "id": "w6qvAEW3Vulb",
        "outputId": "7ae93138-93a3-4ae9-bd6e-a3f9a38abdea"
      },
      "source": [
        "#Scatterplots to see correlation of variables on TotalPay\r\n",
        "\r\n",
        "sns.set(style=\"darkgrid\")\r\n",
        "#Total Pay and Graduation Success Rate by conference\r\n",
        "Splot1 = sns.FacetGrid(newcoaches, col=\"Conference\", height= 4)\r\n",
        "Splot1.map(plt.scatter, \"GSR\", \"TotalPay\", alpha=.7)\r\n",
        "plt.show()\r\n",
        "#Total Pay and Stadium Capacity by conference\r\n",
        "Splot2 = sns.FacetGrid(newcoaches, col=\"Conference\", height= 4)\r\n",
        "Splot2.map(plt.scatter, \"Stadium_Capacity\", \"TotalPay\", alpha=.7)\r\n",
        "plt.show()\r\n",
        "#Total Pay and Federal Graduation Rate by conference\r\n",
        "Splot2 = sns.FacetGrid(newcoaches, col=\"Conference\", height= 4)\r\n",
        "Splot2.map(plt.scatter, \"FGR\", \"TotalPay\", alpha=.7)\r\n",
        "plt.show()\r\n",
        "#Total Pay and Wins by conference\r\n",
        "Splot2 = sns.FacetGrid(newcoaches, col=\"Conference\", height= 4)\r\n",
        "Splot2.map(plt.scatter, \"Wins\", \"TotalPay\", alpha=.7)\r\n",
        "plt.show()"
      ],
      "execution_count": 39,
      "outputs": [
        {
          "output_type": "display_data",
          "data": {
            "image/png": "[encoded data removed]",
            "text/plain": [
              "<Figure size 2880x288 with 10 Axes>"
            ]
          },
          "metadata": {
            "tags": []
          }
        },
        {
          "output_type": "display_data",
          "data": {
            "image/png": "[encoded data removed]",
            "text/plain": [
              "<Figure size 2880x288 with 10 Axes>"
            ]
          },
          "metadata": {
            "tags": []
          }
        },
        {
          "output_type": "display_data",
          "data": {
            "image/png": "[encoded data removed]",
            "text/plain": [
              "<Figure size 2880x288 with 10 Axes>"
            ]
          },
          "metadata": {
            "tags": []
          }
        },
        {
          "output_type": "display_data",
          "data": {
            "image/png": "[encoded data removed]",
            "text/plain": [
              "<Figure size 2880x288 with 10 Axes>"
            ]
          },
          "metadata": {
            "tags": []
          }
        }
      ]
    },
    {
      "cell_type": "code",
      "metadata": {
        "id": "wXB3NjqPIbxS"
      },
      "source": [
        "#Histogram of stadium capacitys within conferences"
      ],
      "execution_count": null,
      "outputs": []
    },
    {
      "cell_type": "code",
      "metadata": {
        "colab": {
          "base_uri": "https://localhost:8080/",
          "height": 301
        },
        "id": "86xPUrvut-LM",
        "outputId": "157303d5-f86c-4cdc-9b57-bfc95ba86b4e"
      },
      "source": [
        "#Correlation Map between variables\r\n",
        "#Factorize the variables in the columns before sorting the variables from lowest to highest correlation\r\n",
        "correlation = newcoaches.apply(lambda x: pd.factorize(x)[0]).corr()[['TotalPay']].sort_values(by='TotalPay', ascending=False)\r\n",
        "sns.heatmap(correlation)\r\n",
        "plt.title('Correlation of Total Pay with other Variables')"
      ],
      "execution_count": 40,
      "outputs": [
        {
          "output_type": "execute_result",
          "data": {
            "text/plain": [
              "Text(0.5, 1.0, 'Correlation of Total Pay with other Variables')"
            ]
          },
          "metadata": {
            "tags": []
          },
          "execution_count": 40
        },
        {
          "output_type": "display_data",
          "data": {
            "image/png": "[encoded data removed]",
            "text/plain": [
              "<Figure size 432x288 with 2 Axes>"
            ]
          },
          "metadata": {
            "tags": []
          }
        }
      ]
    },
    {
      "cell_type": "markdown",
      "metadata": {
        "id": "DzK--BtNOkBO"
      },
      "source": [
        "## Linear Regression Models\r\n"
      ]
    },
    {
      "cell_type": "code",
      "metadata": {
        "colab": {
          "base_uri": "https://localhost:8080/"
        },
        "id": "Aw2aGBjry_Sr",
        "outputId": "8bf01566-0d5d-4703-9102-714c50c33bba"
      },
      "source": [
        "###Create training and testing data for model validation\r\n",
        "###\r\n",
        "##30/70 Split\r\n",
        "#Random Seed\r\n",
        "np.random.seed(1000)\r\n",
        "newcoaches['runiform'] = uniform.rvs(loc = 0, scale = 1, size = len(newcoaches))\r\n",
        "coaches_train = newcoaches[newcoaches['runiform'] >= 0.33]\r\n",
        "coaches_test = newcoaches[newcoaches['runiform'] < 0.33]\r\n",
        "\r\n",
        "#Train set\r\n",
        "print(coaches_train.head())\r\n",
        "#Test Set\r\n",
        "print(coaches_test.head())"
      ],
      "execution_count": 41,
      "outputs": [
        {
          "output_type": "stream",
          "text": [
            "              School Conference              Coach   TotalPay      Bonus  \\\n",
            "0          Air Force   Mt. West       Troy Calhoun   885000.0   247000.0   \n",
            "2            Alabama        SEC         Nick Saban  8307000.0  1100000.0   \n",
            "3  Appalachian State   Sun Belt  Scott Satterfield   712500.0   295000.0   \n",
            "4            Arizona     Pac-12       Kevin Sumlin  2000000.0  2025000.0   \n",
            "7     Arkansas State   Sun Belt     Blake Anderson   825000.0   185000.0   \n",
            "\n",
            "   BonusPaid      Buyout   FGR   GSR  Stadium_Capacity  Rank  APRank  Wins  \\\n",
            "0        NaN         NaN   NaN  77.0             46692  84.0     NaN   5.0   \n",
            "2   500000.0  33600000.0  63.0  84.0            101821   2.0     2.0  14.0   \n",
            "3   145000.0   2160417.0  67.0  71.0             24050  25.0     NaN  11.0   \n",
            "4        NaN  10000000.0  63.0  76.0             51811  76.0     NaN   5.0   \n",
            "7    25000.0    300000.0  68.0  83.0             30964  69.0     NaN   8.0   \n",
            "\n",
            "   Loses   OSRS   DSRS    SRS  runiform  \n",
            "0    7.0   0.47  -2.19  -1.72  0.653590  \n",
            "2    1.0  12.19  13.10  25.29  0.950283  \n",
            "3    2.0   0.09   9.68   9.76  0.482191  \n",
            "4    7.0   2.69  -3.27  -0.57  0.872475  \n",
            "7    5.0   0.00   0.92   0.92  0.397194  \n",
            "           School Conference         Coach   TotalPay      Bonus  BonusPaid  \\\n",
            "1           Akron        MAC  Terry Bowden   412500.0   225000.0    50000.0   \n",
            "5   Arizona State     Pac-12  Herm Edwards  2000000.0  3010000.0        NaN   \n",
            "6        Arkansas        SEC   Chad Morris  3500000.0  1000000.0        NaN   \n",
            "8          Auburn        SEC   Gus Malzahn  6705656.0  1400000.0   375000.0   \n",
            "10    Boise State   Mt. West  Bryan Harsin  1650010.0   475000.0   145000.0   \n",
            "\n",
            "        Buyout   FGR   GSR  Stadium_Capacity   Rank  APRank  Wins  Loses  \\\n",
            "1     688500.0  61.0  72.0             30000  115.0     NaN   4.0    8.0   \n",
            "5    8166667.0  61.0  73.0             71706   45.0     NaN   7.0    6.0   \n",
            "6   12500000.0  42.0  56.0             72000   92.0     NaN   2.0   10.0   \n",
            "8   32143750.0  60.0  72.0             87451   23.0     NaN   8.0    5.0   \n",
            "10   7784038.0  69.0  89.0             37000   27.0    23.0  10.0    3.0   \n",
            "\n",
            "    OSRS   DSRS    SRS  runiform  \n",
            "1  -9.64  -2.02 -11.66  0.115007  \n",
            "5   5.20   0.17   5.37  0.212333  \n",
            "6  -3.67  -0.96  -4.63  0.040710  \n",
            "8   0.59  10.17  10.76  0.233132  \n",
            "10  5.61   3.09   8.69  0.207082  \n"
          ],
          "name": "stdout"
        }
      ]
    },
    {
      "cell_type": "markdown",
      "metadata": {
        "id": "U9fxmBL7Ouf1"
      },
      "source": [
        "###Model 1"
      ]
    },
    {
      "cell_type": "code",
      "metadata": {
        "id": "39jrxl-_15nt"
      },
      "source": [
        "##All Variables\r\n",
        "model1 = str('TotalPay ~ Stadium_Capacity + Conference + Wins + GSR + FGR + Loses + APRank + Rank + SRS')"
      ],
      "execution_count": 46,
      "outputs": []
    },
    {
      "cell_type": "code",
      "metadata": {
        "colab": {
          "base_uri": "https://localhost:8080/"
        },
        "id": "-ozwcKrn2V73",
        "outputId": "ede4820a-1e16-4383-9a9d-b96c49a52a2a"
      },
      "source": [
        "##Testing Model 1\r\n",
        "##\r\n",
        "##\r\n",
        "## Model 1 on Training and Testing(fitted)\r\n",
        "train_model = smf.ols(model1, data = coaches_train).fit()\r\n",
        "print(train_model.summary())\r\n",
        "\r\n",
        "# training set predictions\r\n",
        "coaches_train['predict_salary1'] = train_model.fittedvalues\r\n",
        "\r\n",
        "# test set predictions\r\n",
        "coaches_test['predict_salary1'] = train_model.predict(coaches_test)"
      ],
      "execution_count": 47,
      "outputs": [
        {
          "output_type": "stream",
          "text": [
            "                            OLS Regression Results                            \n",
            "==============================================================================\n",
            "Dep. Variable:               TotalPay   R-squared:                       0.894\n",
            "Model:                            OLS   Adj. R-squared:                  0.437\n",
            "Method:                 Least Squares   F-statistic:                     1.955\n",
            "Date:                Sat, 30 Jan 2021   Prob (F-statistic):              0.319\n",
            "Time:                        22:58:36   Log-Likelihood:                -252.90\n",
            "No. Observations:                  17   AIC:                             533.8\n",
            "Df Residuals:                       3   BIC:                             545.5\n",
            "Df Model:                          13                                         \n",
            "Covariance Type:            nonrobust                                         \n",
            "==========================================================================================\n",
            "                             coef    std err          t      P>|t|      [0.025      0.975]\n",
            "------------------------------------------------------------------------------------------\n",
            "Intercept              -3.961e+05   1.53e+07     -0.026      0.981    -4.9e+07    4.82e+07\n",
            "Conference[T.ACC]       -6.04e+05   2.71e+06     -0.223      0.838   -9.24e+06    8.03e+06\n",
            "Conference[T.Big 12]    9.682e+04   1.98e+06      0.049      0.964   -6.19e+06    6.39e+06\n",
            "Conference[T.Big Ten]   8.224e+04   3.71e+06      0.022      0.984   -1.17e+07    1.19e+07\n",
            "Conference[T.C-USA]    -2.686e-10   2.81e-08     -0.010      0.993   -8.96e-08    8.91e-08\n",
            "Conference[T.MAC]       2.923e-09    6.5e-08      0.045      0.967   -2.04e-07     2.1e-07\n",
            "Conference[T.Mt. West] -3.356e+06   4.87e+06     -0.690      0.540   -1.88e+07    1.21e+07\n",
            "Conference[T.Pac-12]    1.683e+06   3.57e+06      0.471      0.670   -9.68e+06     1.3e+07\n",
            "Conference[T.SEC]       1.702e+06   3.05e+06      0.558      0.616      -8e+06    1.14e+07\n",
            "Conference[T.Sun Belt]  4.368e-10   7.21e-09      0.061      0.955   -2.25e-08    2.34e-08\n",
            "Stadium_Capacity          60.3910     69.632      0.867      0.450    -161.210     281.992\n",
            "Wins                    2.837e+05   1.52e+06      0.187      0.864   -4.55e+06    5.12e+06\n",
            "GSR                    -4.375e+04   8.85e+04     -0.494      0.655   -3.25e+05    2.38e+05\n",
            "FGR                     4.972e+04   1.29e+05      0.385      0.726   -3.61e+05     4.6e+05\n",
            "Loses                  -1.252e+06   1.78e+06     -0.703      0.533   -6.92e+06    4.42e+06\n",
            "APRank                  2.201e+05   3.67e+05      0.599      0.591   -9.49e+05    1.39e+06\n",
            "Rank                   -5.723e+04    2.4e+05     -0.238      0.827   -8.22e+05    7.08e+05\n",
            "SRS                    -5.437e+04   4.16e+05     -0.131      0.904   -1.38e+06    1.27e+06\n",
            "==============================================================================\n",
            "Omnibus:                        6.330   Durbin-Watson:                   2.314\n",
            "Prob(Omnibus):                  0.042   Jarque-Bera (JB):                3.479\n",
            "Skew:                          -0.852   Prob(JB):                        0.176\n",
            "Kurtosis:                       4.417   Cond. No.                     2.76e+21\n",
            "==============================================================================\n",
            "\n",
            "Warnings:\n",
            "[1] Standard Errors assume that the covariance matrix of the errors is correctly specified.\n",
            "[2] The input rank is higher than the number of observations.\n",
            "[3] The smallest eigenvalue is 1.5e-32. This might indicate that there are\n",
            "strong multicollinearity problems or that the design matrix is singular.\n"
          ],
          "name": "stdout"
        },
        {
          "output_type": "stream",
          "text": [
            "/usr/local/lib/python3.6/dist-packages/scipy/stats/stats.py:1535: UserWarning: kurtosistest only valid for n>=20 ... continuing anyway, n=17\n",
            "  \"anyway, n=%i\" % int(n))\n",
            "/usr/local/lib/python3.6/dist-packages/ipykernel_launcher.py:9: SettingWithCopyWarning: \n",
            "A value is trying to be set on a copy of a slice from a DataFrame.\n",
            "Try using .loc[row_indexer,col_indexer] = value instead\n",
            "\n",
            "See the caveats in the documentation: https://pandas.pydata.org/pandas-docs/stable/user_guide/indexing.html#returning-a-view-versus-a-copy\n",
            "  if __name__ == '__main__':\n",
            "/usr/local/lib/python3.6/dist-packages/ipykernel_launcher.py:12: SettingWithCopyWarning: \n",
            "A value is trying to be set on a copy of a slice from a DataFrame.\n",
            "Try using .loc[row_indexer,col_indexer] = value instead\n",
            "\n",
            "See the caveats in the documentation: https://pandas.pydata.org/pandas-docs/stable/user_guide/indexing.html#returning-a-view-versus-a-copy\n",
            "  if sys.path[0] == '':\n"
          ],
          "name": "stderr"
        }
      ]
    },
    {
      "cell_type": "markdown",
      "metadata": {
        "id": "01dqbTlcOzvU"
      },
      "source": [
        "###Model 2"
      ]
    },
    {
      "cell_type": "code",
      "metadata": {
        "id": "tCHlDhK95JQ4"
      },
      "source": [
        "#Model 2( No Bonus Variables, No APRank, No Loses, No OSRS, No DSRS, No FGR)\r\n",
        "model2 = str('TotalPay ~ Conference + Stadium_Capacity + Wins + GSR + SRS + Rank')"
      ],
      "execution_count": 48,
      "outputs": []
    },
    {
      "cell_type": "code",
      "metadata": {
        "colab": {
          "base_uri": "https://localhost:8080/"
        },
        "id": "urV4yo-n69oN",
        "outputId": "c3935bc6-82b2-4460-a66a-3ff33cf609f0"
      },
      "source": [
        "##Testing Model 2\r\n",
        "##\r\n",
        "##\r\n",
        "## Model 2 on Training and Testing(fitted)\r\n",
        "train_model2 = smf.ols(model2, data = coaches_train).fit()\r\n",
        "print(train_model2.summary())\r\n",
        "\r\n",
        "# training set predictions from fit \r\n",
        "coaches_train['predict_salary'] = train_model2.fittedvalues\r\n",
        "\r\n",
        "# test set predictions from the model fit to the training set\r\n",
        "coaches_test['predict_salary'] = train_model2.predict(coaches_test)"
      ],
      "execution_count": 49,
      "outputs": [
        {
          "output_type": "stream",
          "text": [
            "                            OLS Regression Results                            \n",
            "==============================================================================\n",
            "Dep. Variable:               TotalPay   R-squared:                       0.866\n",
            "Model:                            OLS   Adj. R-squared:                  0.830\n",
            "Method:                 Least Squares   F-statistic:                     23.62\n",
            "Date:                Sat, 30 Jan 2021   Prob (F-statistic):           1.84e-17\n",
            "Time:                        22:58:44   Log-Likelihood:                -988.77\n",
            "No. Observations:                  66   AIC:                             2008.\n",
            "Df Residuals:                      51   BIC:                             2040.\n",
            "Df Model:                          14                                         \n",
            "Covariance Type:            nonrobust                                         \n",
            "==========================================================================================\n",
            "                             coef    std err          t      P>|t|      [0.025      0.975]\n",
            "------------------------------------------------------------------------------------------\n",
            "Intercept               8.978e+05    2.1e+06      0.427      0.671   -3.32e+06    5.12e+06\n",
            "Conference[T.ACC]       4.952e+05   6.52e+05      0.760      0.451   -8.14e+05     1.8e+06\n",
            "Conference[T.Big 12]    3.012e+05   8.01e+05      0.376      0.708   -1.31e+06    1.91e+06\n",
            "Conference[T.Big Ten]     1.1e+06   9.08e+05      1.212      0.231   -7.22e+05    2.92e+06\n",
            "Conference[T.C-USA]    -7.197e+05   6.06e+05     -1.188      0.240   -1.94e+06    4.97e+05\n",
            "Conference[T.MAC]      -8.071e+05   5.85e+05     -1.379      0.174   -1.98e+06    3.68e+05\n",
            "Conference[T.Mt. West]  -1.04e+06   5.68e+05     -1.830      0.073   -2.18e+06    1.01e+05\n",
            "Conference[T.Pac-12]    2.768e+05    6.3e+05      0.439      0.662   -9.89e+05    1.54e+06\n",
            "Conference[T.SEC]       5.615e+05   8.66e+05      0.648      0.520   -1.18e+06     2.3e+06\n",
            "Conference[T.Sun Belt] -1.038e+06   6.15e+05     -1.688      0.097   -2.27e+06    1.96e+05\n",
            "Stadium_Capacity          35.8961      8.136      4.412      0.000      19.563      52.229\n",
            "Wins                    5069.4959   1.32e+05      0.038      0.969   -2.59e+05    2.69e+05\n",
            "GSR                    -1.542e+04   1.37e+04     -1.126      0.265   -4.29e+04    1.21e+04\n",
            "SRS                     1.071e+05   6.56e+04      1.631      0.109   -2.47e+04    2.39e+05\n",
            "Rank                    1.377e+04   1.49e+04      0.922      0.361   -1.62e+04    4.37e+04\n",
            "==============================================================================\n",
            "Omnibus:                        1.033   Durbin-Watson:                   2.179\n",
            "Prob(Omnibus):                  0.597   Jarque-Bera (JB):                0.440\n",
            "Skew:                          -0.077   Prob(JB):                        0.803\n",
            "Kurtosis:                       3.369   Cond. No.                     1.31e+06\n",
            "==============================================================================\n",
            "\n",
            "Warnings:\n",
            "[1] Standard Errors assume that the covariance matrix of the errors is correctly specified.\n",
            "[2] The condition number is large, 1.31e+06. This might indicate that there are\n",
            "strong multicollinearity or other numerical problems.\n"
          ],
          "name": "stdout"
        },
        {
          "output_type": "stream",
          "text": [
            "/usr/local/lib/python3.6/dist-packages/ipykernel_launcher.py:9: SettingWithCopyWarning: \n",
            "A value is trying to be set on a copy of a slice from a DataFrame.\n",
            "Try using .loc[row_indexer,col_indexer] = value instead\n",
            "\n",
            "See the caveats in the documentation: https://pandas.pydata.org/pandas-docs/stable/user_guide/indexing.html#returning-a-view-versus-a-copy\n",
            "  if __name__ == '__main__':\n",
            "/usr/local/lib/python3.6/dist-packages/ipykernel_launcher.py:12: SettingWithCopyWarning: \n",
            "A value is trying to be set on a copy of a slice from a DataFrame.\n",
            "Try using .loc[row_indexer,col_indexer] = value instead\n",
            "\n",
            "See the caveats in the documentation: https://pandas.pydata.org/pandas-docs/stable/user_guide/indexing.html#returning-a-view-versus-a-copy\n",
            "  if sys.path[0] == '':\n"
          ],
          "name": "stderr"
        }
      ]
    },
    {
      "cell_type": "markdown",
      "metadata": {
        "id": "iRFTYC1cgKcA"
      },
      "source": [
        "##Model3"
      ]
    },
    {
      "cell_type": "code",
      "metadata": {
        "id": "7NBpthvJGzpT"
      },
      "source": [
        "#Model 3 (No GSR, No Wins compared to model 2)\r\n",
        "model3 = str('TotalPay ~ Conference + Stadium_Capacity + SRS + Rank')"
      ],
      "execution_count": 58,
      "outputs": []
    },
    {
      "cell_type": "code",
      "metadata": {
        "colab": {
          "base_uri": "https://localhost:8080/"
        },
        "id": "HEjfnCqAG1uc",
        "outputId": "8c28d5b3-e3e9-4e90-8b97-db3909bac4d9"
      },
      "source": [
        "##Testing Model 3\r\n",
        "##\r\n",
        "##\r\n",
        "## Model 2 on Training and Testing(fitted)\r\n",
        "train_model3 = smf.ols(model3, data = coaches_train).fit()\r\n",
        "print(train_model3.summary())\r\n",
        "\r\n",
        "# training set predictions from fit \r\n",
        "coaches_train['predict_salary'] = train_model3.fittedvalues\r\n",
        "\r\n",
        "# test set predictions from the model fit to the training set\r\n",
        "coaches_test['predict_salary'] = train_model3.predict(coaches_test)"
      ],
      "execution_count": 59,
      "outputs": [
        {
          "output_type": "stream",
          "text": [
            "                            OLS Regression Results                            \n",
            "==============================================================================\n",
            "Dep. Variable:               TotalPay   R-squared:                       0.863\n",
            "Model:                            OLS   Adj. R-squared:                  0.832\n",
            "Method:                 Least Squares   F-statistic:                     27.81\n",
            "Date:                Sat, 30 Jan 2021   Prob (F-statistic):           1.22e-18\n",
            "Time:                        23:28:17   Log-Likelihood:                -989.60\n",
            "No. Observations:                  66   AIC:                             2005.\n",
            "Df Residuals:                      53   BIC:                             2034.\n",
            "Df Model:                          12                                         \n",
            "Covariance Type:            nonrobust                                         \n",
            "==========================================================================================\n",
            "                             coef    std err          t      P>|t|      [0.025      0.975]\n",
            "------------------------------------------------------------------------------------------\n",
            "Intercept               -4.95e+05   1.11e+06     -0.446      0.657   -2.72e+06    1.73e+06\n",
            "Conference[T.ACC]       4.103e+05   6.12e+05      0.670      0.506   -8.18e+05    1.64e+06\n",
            "Conference[T.Big 12]    4.305e+05    6.6e+05      0.652      0.517   -8.94e+05    1.75e+06\n",
            "Conference[T.Big Ten]   1.051e+06   7.88e+05      1.333      0.188    -5.3e+05    2.63e+06\n",
            "Conference[T.C-USA]    -6.198e+05   5.68e+05     -1.091      0.280   -1.76e+06    5.19e+05\n",
            "Conference[T.MAC]        -6.7e+05   5.59e+05     -1.199      0.236   -1.79e+06    4.51e+05\n",
            "Conference[T.Mt. West]  -9.86e+05   5.62e+05     -1.754      0.085   -2.11e+06    1.42e+05\n",
            "Conference[T.Pac-12]    2.766e+05   5.87e+05      0.471      0.639   -9.01e+05    1.45e+06\n",
            "Conference[T.SEC]       5.343e+05   7.27e+05      0.735      0.465   -9.23e+05    1.99e+06\n",
            "Conference[T.Sun Belt] -8.357e+05    5.8e+05     -1.442      0.155      -2e+06    3.27e+05\n",
            "Stadium_Capacity          37.4921      7.922      4.733      0.000      21.603      53.381\n",
            "SRS                     1.136e+05   5.21e+04      2.181      0.034    9150.361    2.18e+05\n",
            "Rank                    1.545e+04   1.44e+04      1.070      0.289   -1.35e+04    4.44e+04\n",
            "==============================================================================\n",
            "Omnibus:                        0.634   Durbin-Watson:                   2.199\n",
            "Prob(Omnibus):                  0.728   Jarque-Bera (JB):                0.168\n",
            "Skew:                           0.010   Prob(JB):                        0.919\n",
            "Kurtosis:                       3.247   Cond. No.                     9.32e+05\n",
            "==============================================================================\n",
            "\n",
            "Warnings:\n",
            "[1] Standard Errors assume that the covariance matrix of the errors is correctly specified.\n",
            "[2] The condition number is large, 9.32e+05. This might indicate that there are\n",
            "strong multicollinearity or other numerical problems.\n"
          ],
          "name": "stdout"
        },
        {
          "output_type": "stream",
          "text": [
            "/usr/local/lib/python3.6/dist-packages/ipykernel_launcher.py:9: SettingWithCopyWarning: \n",
            "A value is trying to be set on a copy of a slice from a DataFrame.\n",
            "Try using .loc[row_indexer,col_indexer] = value instead\n",
            "\n",
            "See the caveats in the documentation: https://pandas.pydata.org/pandas-docs/stable/user_guide/indexing.html#returning-a-view-versus-a-copy\n",
            "  if __name__ == '__main__':\n",
            "/usr/local/lib/python3.6/dist-packages/ipykernel_launcher.py:12: SettingWithCopyWarning: \n",
            "A value is trying to be set on a copy of a slice from a DataFrame.\n",
            "Try using .loc[row_indexer,col_indexer] = value instead\n",
            "\n",
            "See the caveats in the documentation: https://pandas.pydata.org/pandas-docs/stable/user_guide/indexing.html#returning-a-view-versus-a-copy\n",
            "  if sys.path[0] == '':\n"
          ],
          "name": "stderr"
        }
      ]
    },
    {
      "cell_type": "code",
      "metadata": {
        "colab": {
          "base_uri": "https://localhost:8080/"
        },
        "id": "CzVuzl-sZel-",
        "outputId": "0d2e3a8d-6e9b-42f6-967b-6997fc1dbab1"
      },
      "source": [
        "#Create Predictions on all data based on third model\r\n",
        "Model_fit2 = smf.ols(model3, data = newcoaches).fit()\r\n",
        "print(Model_fit2.summary())\r\n",
        "\r\n",
        "# training set predictions\r\n",
        "newcoaches['predict_salary'] = Model_fit2.fittedvalues\r\n",
        "# test set predictions\r\n",
        "newcoaches['predict_salary'] = Model_fit2.predict(newcoaches)\r\n",
        "\r\n",
        "print('Predicted Pay for Syracuse Coach:', round(newcoaches.loc[newcoaches['School'] == 'Syracuse', 'predict_salary'].iloc[0]))"
      ],
      "execution_count": 52,
      "outputs": [
        {
          "output_type": "stream",
          "text": [
            "                            OLS Regression Results                            \n",
            "==============================================================================\n",
            "Dep. Variable:               TotalPay   R-squared:                       0.818\n",
            "Model:                            OLS   Adj. R-squared:                  0.793\n",
            "Method:                 Least Squares   F-statistic:                     32.94\n",
            "Date:                Sat, 30 Jan 2021   Prob (F-statistic):           2.04e-27\n",
            "Time:                        22:58:55   Log-Likelihood:                -1518.5\n",
            "No. Observations:                 101   AIC:                             3063.\n",
            "Df Residuals:                      88   BIC:                             3097.\n",
            "Df Model:                          12                                         \n",
            "Covariance Type:            nonrobust                                         \n",
            "==========================================================================================\n",
            "                             coef    std err          t      P>|t|      [0.025      0.975]\n",
            "------------------------------------------------------------------------------------------\n",
            "Intercept               -8.22e+05   8.97e+05     -0.916      0.362    -2.6e+06    9.61e+05\n",
            "Conference[T.ACC]       6.553e+05   4.26e+05      1.539      0.127   -1.91e+05     1.5e+06\n",
            "Conference[T.Big 12]    6.935e+05   4.84e+05      1.433      0.155   -2.68e+05    1.66e+06\n",
            "Conference[T.Big Ten]   9.303e+05   4.46e+05      2.085      0.040    4.36e+04    1.82e+06\n",
            "Conference[T.C-USA]    -3.916e+05   4.29e+05     -0.912      0.364   -1.24e+06    4.62e+05\n",
            "Conference[T.MAC]      -5.871e+05   4.36e+05     -1.347      0.182   -1.45e+06    2.79e+05\n",
            "Conference[T.Mt. West] -7.719e+05   4.09e+05     -1.886      0.063   -1.59e+06    4.16e+04\n",
            "Conference[T.Pac-12]    1.999e+05   4.27e+05      0.468      0.641   -6.49e+05    1.05e+06\n",
            "Conference[T.SEC]        7.06e+05   4.87e+05      1.449      0.151   -2.62e+05    1.67e+06\n",
            "Conference[T.Sun Belt] -6.279e+05   4.45e+05     -1.410      0.162   -1.51e+06    2.57e+05\n",
            "Stadium_Capacity          37.8273      6.187      6.114      0.000      25.532      50.123\n",
            "SRS                     1.169e+05   4.67e+04      2.503      0.014    2.41e+04     2.1e+05\n",
            "Rank                    1.767e+04   1.23e+04      1.442      0.153   -6678.665     4.2e+04\n",
            "==============================================================================\n",
            "Omnibus:                        0.545   Durbin-Watson:                   2.179\n",
            "Prob(Omnibus):                  0.761   Jarque-Bera (JB):                0.176\n",
            "Skew:                           0.001   Prob(JB):                        0.916\n",
            "Kurtosis:                       3.204   Cond. No.                     7.31e+05\n",
            "==============================================================================\n",
            "\n",
            "Warnings:\n",
            "[1] Standard Errors assume that the covariance matrix of the errors is correctly specified.\n",
            "[2] The condition number is large, 7.31e+05. This might indicate that there are\n",
            "strong multicollinearity or other numerical problems.\n",
            "Predicted Pay for Syracuse Coach: 3450656\n"
          ],
          "name": "stdout"
        }
      ]
    },
    {
      "cell_type": "code",
      "metadata": {
        "id": "nrXWogDBpCcU"
      },
      "source": [
        "#Change Syracuse to be in the Big10\r\n",
        "##\r\n",
        "##\r\n",
        "newcoaches.loc[(newcoaches.School == 'Syracuse'), 'Conference']='Big Ten'"
      ],
      "execution_count": 53,
      "outputs": []
    },
    {
      "cell_type": "code",
      "metadata": {
        "colab": {
          "base_uri": "https://localhost:8080/"
        },
        "id": "xhmiWRyUosXF",
        "outputId": "d4514749-0d66-41a4-8ae1-aaedde0fc608"
      },
      "source": [
        "#Create Predictions on all data based on second model in Big 10\r\n",
        "Model_fit3 = smf.ols(model3, data = newcoaches).fit()\r\n",
        "print(Model_fit3.summary())\r\n",
        "\r\n",
        "# training set predictions\r\n",
        "newcoaches['predict_salary1'] = Model_fit3.fittedvalues\r\n",
        "# test set predictions\r\n",
        "newcoaches['predict_salary1'] = Model_fit3.predict(newcoaches)"
      ],
      "execution_count": 54,
      "outputs": [
        {
          "output_type": "stream",
          "text": [
            "                            OLS Regression Results                            \n",
            "==============================================================================\n",
            "Dep. Variable:               TotalPay   R-squared:                       0.817\n",
            "Model:                            OLS   Adj. R-squared:                  0.792\n",
            "Method:                 Least Squares   F-statistic:                     32.70\n",
            "Date:                Sat, 30 Jan 2021   Prob (F-statistic):           2.61e-27\n",
            "Time:                        22:59:00   Log-Likelihood:                -1518.8\n",
            "No. Observations:                 101   AIC:                             3064.\n",
            "Df Residuals:                      88   BIC:                             3098.\n",
            "Df Model:                          12                                         \n",
            "Covariance Type:            nonrobust                                         \n",
            "==========================================================================================\n",
            "                             coef    std err          t      P>|t|      [0.025      0.975]\n",
            "------------------------------------------------------------------------------------------\n",
            "Intercept               -7.48e+05   9.05e+05     -0.826      0.411   -2.55e+06    1.05e+06\n",
            "Conference[T.ACC]       7.483e+05   4.35e+05      1.722      0.089   -1.15e+05    1.61e+06\n",
            "Conference[T.Big 12]    6.683e+05   4.85e+05      1.377      0.172   -2.96e+05    1.63e+06\n",
            "Conference[T.Big Ten]   8.049e+05   4.41e+05      1.826      0.071    -7.1e+04    1.68e+06\n",
            "Conference[T.C-USA]    -3.846e+05   4.31e+05     -0.893      0.374   -1.24e+06    4.71e+05\n",
            "Conference[T.MAC]      -5.693e+05   4.37e+05     -1.302      0.196   -1.44e+06    2.99e+05\n",
            "Conference[T.Mt. West] -7.676e+05   4.11e+05     -1.870      0.065   -1.58e+06    4.83e+04\n",
            "Conference[T.Pac-12]    1.804e+05   4.28e+05      0.421      0.675   -6.71e+05    1.03e+06\n",
            "Conference[T.SEC]        6.61e+05   4.88e+05      1.354      0.179   -3.09e+05    1.63e+06\n",
            "Conference[T.Sun Belt] -6.164e+05   4.47e+05     -1.380      0.171    -1.5e+06    2.71e+05\n",
            "Stadium_Capacity          38.8673      6.133      6.337      0.000      26.679      51.056\n",
            "SRS                     1.107e+05   4.69e+04      2.359      0.021    1.74e+04    2.04e+05\n",
            "Rank                    1.598e+04   1.24e+04      1.294      0.199   -8563.197    4.05e+04\n",
            "==============================================================================\n",
            "Omnibus:                        0.532   Durbin-Watson:                   2.195\n",
            "Prob(Omnibus):                  0.766   Jarque-Bera (JB):                0.168\n",
            "Skew:                           0.007   Prob(JB):                        0.919\n",
            "Kurtosis:                       3.200   Cond. No.                     7.32e+05\n",
            "==============================================================================\n",
            "\n",
            "Warnings:\n",
            "[1] Standard Errors assume that the covariance matrix of the errors is correctly specified.\n",
            "[2] The condition number is large, 7.32e+05. This might indicate that there are\n",
            "strong multicollinearity or other numerical problems.\n"
          ],
          "name": "stdout"
        }
      ]
    },
    {
      "cell_type": "code",
      "metadata": {
        "colab": {
          "base_uri": "https://localhost:8080/"
        },
        "id": "YH8nbxvgoNZU",
        "outputId": "cfed7ac6-0a4a-48d3-fdcc-69e01cf5ccbd"
      },
      "source": [
        "print('Predicted Pay for Syracuse Coach if in Big 10:', round(newcoaches.loc[newcoaches['School'] == 'Syracuse', 'predict_salary1'].iloc[0]))"
      ],
      "execution_count": 55,
      "outputs": [
        {
          "output_type": "stream",
          "text": [
            "Predicted Pay for Syracuse Coach if in Big 10: 3618445\n"
          ],
          "name": "stdout"
        }
      ]
    }
  ]
}